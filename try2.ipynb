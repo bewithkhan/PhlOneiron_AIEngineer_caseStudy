{
  "cells": [
    {
      "cell_type": "code",
      "execution_count": 25,
      "metadata": {
        "id": "QzJjvKN5riEU"
      },
      "outputs": [],
      "source": [
        "import pandas as pd\n",
        "import numpy as np\n",
        "from sklearn.feature_extraction.text import TfidfVectorizer\n",
        "from sklearn.metrics.pairwise import cosine_similarity\n",
        "import requests  # Uncomment this if you are making API calls\n",
        "import json  # Uncomment this if you are making API calls"
      ]
    },
    {
      "cell_type": "code",
      "execution_count": 26,
      "metadata": {
        "id": "OmDTO70lriEW"
      },
      "outputs": [],
      "source": [
        "# Function for simplified text preprocessing\n",
        "def simple_preprocess_text(text):\n",
        "    text = text.lower()\n",
        "    tokens = text.split()\n",
        "    filtered_tokens = [token for token in tokens if token.isalnum()]\n",
        "    return ' '.join(filtered_tokens)"
      ]
    },
    {
      "cell_type": "code",
      "source": [
        "from google.colab import files\n",
        "uploaded = files.upload()"
      ],
      "metadata": {
        "colab": {
          "base_uri": "https://localhost:8080/",
          "height": 151
        },
        "id": "ATQDslTNClP3",
        "outputId": "3bdfbef2-2c6d-4135-b3f6-1b3452a6e90d"
      },
      "execution_count": 27,
      "outputs": [
        {
          "output_type": "display_data",
          "data": {
            "text/plain": [
              "<IPython.core.display.HTML object>"
            ],
            "text/html": [
              "\n",
              "     <input type=\"file\" id=\"files-2a383f02-b639-4663-b6bd-650be5a0c575\" name=\"files[]\" multiple disabled\n",
              "        style=\"border:none\" />\n",
              "     <output id=\"result-2a383f02-b639-4663-b6bd-650be5a0c575\">\n",
              "      Upload widget is only available when the cell has been executed in the\n",
              "      current browser session. Please rerun this cell to enable.\n",
              "      </output>\n",
              "      <script>// Copyright 2017 Google LLC\n",
              "//\n",
              "// Licensed under the Apache License, Version 2.0 (the \"License\");\n",
              "// you may not use this file except in compliance with the License.\n",
              "// You may obtain a copy of the License at\n",
              "//\n",
              "//      http://www.apache.org/licenses/LICENSE-2.0\n",
              "//\n",
              "// Unless required by applicable law or agreed to in writing, software\n",
              "// distributed under the License is distributed on an \"AS IS\" BASIS,\n",
              "// WITHOUT WARRANTIES OR CONDITIONS OF ANY KIND, either express or implied.\n",
              "// See the License for the specific language governing permissions and\n",
              "// limitations under the License.\n",
              "\n",
              "/**\n",
              " * @fileoverview Helpers for google.colab Python module.\n",
              " */\n",
              "(function(scope) {\n",
              "function span(text, styleAttributes = {}) {\n",
              "  const element = document.createElement('span');\n",
              "  element.textContent = text;\n",
              "  for (const key of Object.keys(styleAttributes)) {\n",
              "    element.style[key] = styleAttributes[key];\n",
              "  }\n",
              "  return element;\n",
              "}\n",
              "\n",
              "// Max number of bytes which will be uploaded at a time.\n",
              "const MAX_PAYLOAD_SIZE = 100 * 1024;\n",
              "\n",
              "function _uploadFiles(inputId, outputId) {\n",
              "  const steps = uploadFilesStep(inputId, outputId);\n",
              "  const outputElement = document.getElementById(outputId);\n",
              "  // Cache steps on the outputElement to make it available for the next call\n",
              "  // to uploadFilesContinue from Python.\n",
              "  outputElement.steps = steps;\n",
              "\n",
              "  return _uploadFilesContinue(outputId);\n",
              "}\n",
              "\n",
              "// This is roughly an async generator (not supported in the browser yet),\n",
              "// where there are multiple asynchronous steps and the Python side is going\n",
              "// to poll for completion of each step.\n",
              "// This uses a Promise to block the python side on completion of each step,\n",
              "// then passes the result of the previous step as the input to the next step.\n",
              "function _uploadFilesContinue(outputId) {\n",
              "  const outputElement = document.getElementById(outputId);\n",
              "  const steps = outputElement.steps;\n",
              "\n",
              "  const next = steps.next(outputElement.lastPromiseValue);\n",
              "  return Promise.resolve(next.value.promise).then((value) => {\n",
              "    // Cache the last promise value to make it available to the next\n",
              "    // step of the generator.\n",
              "    outputElement.lastPromiseValue = value;\n",
              "    return next.value.response;\n",
              "  });\n",
              "}\n",
              "\n",
              "/**\n",
              " * Generator function which is called between each async step of the upload\n",
              " * process.\n",
              " * @param {string} inputId Element ID of the input file picker element.\n",
              " * @param {string} outputId Element ID of the output display.\n",
              " * @return {!Iterable<!Object>} Iterable of next steps.\n",
              " */\n",
              "function* uploadFilesStep(inputId, outputId) {\n",
              "  const inputElement = document.getElementById(inputId);\n",
              "  inputElement.disabled = false;\n",
              "\n",
              "  const outputElement = document.getElementById(outputId);\n",
              "  outputElement.innerHTML = '';\n",
              "\n",
              "  const pickedPromise = new Promise((resolve) => {\n",
              "    inputElement.addEventListener('change', (e) => {\n",
              "      resolve(e.target.files);\n",
              "    });\n",
              "  });\n",
              "\n",
              "  const cancel = document.createElement('button');\n",
              "  inputElement.parentElement.appendChild(cancel);\n",
              "  cancel.textContent = 'Cancel upload';\n",
              "  const cancelPromise = new Promise((resolve) => {\n",
              "    cancel.onclick = () => {\n",
              "      resolve(null);\n",
              "    };\n",
              "  });\n",
              "\n",
              "  // Wait for the user to pick the files.\n",
              "  const files = yield {\n",
              "    promise: Promise.race([pickedPromise, cancelPromise]),\n",
              "    response: {\n",
              "      action: 'starting',\n",
              "    }\n",
              "  };\n",
              "\n",
              "  cancel.remove();\n",
              "\n",
              "  // Disable the input element since further picks are not allowed.\n",
              "  inputElement.disabled = true;\n",
              "\n",
              "  if (!files) {\n",
              "    return {\n",
              "      response: {\n",
              "        action: 'complete',\n",
              "      }\n",
              "    };\n",
              "  }\n",
              "\n",
              "  for (const file of files) {\n",
              "    const li = document.createElement('li');\n",
              "    li.append(span(file.name, {fontWeight: 'bold'}));\n",
              "    li.append(span(\n",
              "        `(${file.type || 'n/a'}) - ${file.size} bytes, ` +\n",
              "        `last modified: ${\n",
              "            file.lastModifiedDate ? file.lastModifiedDate.toLocaleDateString() :\n",
              "                                    'n/a'} - `));\n",
              "    const percent = span('0% done');\n",
              "    li.appendChild(percent);\n",
              "\n",
              "    outputElement.appendChild(li);\n",
              "\n",
              "    const fileDataPromise = new Promise((resolve) => {\n",
              "      const reader = new FileReader();\n",
              "      reader.onload = (e) => {\n",
              "        resolve(e.target.result);\n",
              "      };\n",
              "      reader.readAsArrayBuffer(file);\n",
              "    });\n",
              "    // Wait for the data to be ready.\n",
              "    let fileData = yield {\n",
              "      promise: fileDataPromise,\n",
              "      response: {\n",
              "        action: 'continue',\n",
              "      }\n",
              "    };\n",
              "\n",
              "    // Use a chunked sending to avoid message size limits. See b/62115660.\n",
              "    let position = 0;\n",
              "    do {\n",
              "      const length = Math.min(fileData.byteLength - position, MAX_PAYLOAD_SIZE);\n",
              "      const chunk = new Uint8Array(fileData, position, length);\n",
              "      position += length;\n",
              "\n",
              "      const base64 = btoa(String.fromCharCode.apply(null, chunk));\n",
              "      yield {\n",
              "        response: {\n",
              "          action: 'append',\n",
              "          file: file.name,\n",
              "          data: base64,\n",
              "        },\n",
              "      };\n",
              "\n",
              "      let percentDone = fileData.byteLength === 0 ?\n",
              "          100 :\n",
              "          Math.round((position / fileData.byteLength) * 100);\n",
              "      percent.textContent = `${percentDone}% done`;\n",
              "\n",
              "    } while (position < fileData.byteLength);\n",
              "  }\n",
              "\n",
              "  // All done.\n",
              "  yield {\n",
              "    response: {\n",
              "      action: 'complete',\n",
              "    }\n",
              "  };\n",
              "}\n",
              "\n",
              "scope.google = scope.google || {};\n",
              "scope.google.colab = scope.google.colab || {};\n",
              "scope.google.colab._files = {\n",
              "  _uploadFiles,\n",
              "  _uploadFilesContinue,\n",
              "};\n",
              "})(self);\n",
              "</script> "
            ]
          },
          "metadata": {}
        },
        {
          "output_type": "stream",
          "name": "stdout",
          "text": [
            "Saving candidates.csv to candidates.csv\n",
            "Saving companies.csv to companies.csv\n",
            "Saving vacancies.csv to vacancies.csv\n"
          ]
        }
      ]
    },
    {
      "cell_type": "code",
      "source": [
        "# Load the data\n",
        "candidates_df = pd.read_csv('candidates.csv')\n",
        "companies_df = pd.read_csv('companies.csv')\n",
        "vacancies_df = pd.read_csv('vacancies.csv')"
      ],
      "metadata": {
        "id": "n0vFbGWVCwdh"
      },
      "execution_count": 28,
      "outputs": []
    },
    {
      "cell_type": "code",
      "source": [
        "# Text Preprocessing\n",
        "candidates_df['processed_mission'] = candidates_df['mission_statement'].apply(simple_preprocess_text)\n",
        "companies_df['processed_mission'] = companies_df['mission_statement'].apply(simple_preprocess_text)\n",
        "vacancies_df['processed_description'] = vacancies_df['description'].apply(simple_preprocess_text)"
      ],
      "metadata": {
        "id": "uyAThcNHCzNo"
      },
      "execution_count": 29,
      "outputs": []
    },
    {
      "cell_type": "code",
      "source": [
        "# Keyword Extraction (For demonstration, let's assume 'manager', 'operations', and 'fashion' are domain-specific keywords)\n",
        "keywords = ['manager', 'operations', 'fashion']"
      ],
      "metadata": {
        "id": "9H7bN3Y_C2aV"
      },
      "execution_count": 30,
      "outputs": []
    },
    {
      "cell_type": "code",
      "source": [
        "# Add keyword presence as features\n",
        "for keyword in keywords:\n",
        "    candidates_df[keyword] = candidates_df['processed_mission'].apply(lambda x: int(keyword in x))\n",
        "    companies_df[keyword] = companies_df['processed_mission'].apply(lambda x: int(keyword in x))\n",
        "    vacancies_df[keyword] = vacancies_df['processed_description'].apply(lambda x: int(keyword in x))"
      ],
      "metadata": {
        "id": "SdL-w1R_C5F9"
      },
      "execution_count": 31,
      "outputs": []
    },
    {
      "cell_type": "code",
      "source": [
        "# TF-IDF Vectorization\n",
        "tfidf_vectorizer = TfidfVectorizer()\n",
        "combined_corpus = pd.concat([candidates_df['processed_mission'], companies_df['processed_mission'], vacancies_df['processed_description']], ignore_index=True)\n",
        "tfidf_vectorizer.fit(combined_corpus)\n",
        "\n",
        "candidates_tfidf = tfidf_vectorizer.transform(candidates_df['processed_mission'])\n",
        "companies_tfidf = tfidf_vectorizer.transform(companies_df['processed_mission'])\n",
        "vacancies_tfidf = tfidf_vectorizer.transform(vacancies_df['processed_description'])"
      ],
      "metadata": {
        "id": "vBf3H8o-C8OE"
      },
      "execution_count": 32,
      "outputs": []
    },
    {
      "cell_type": "code",
      "source": [
        "# Include keyword features in TF-IDF matrix\n",
        "candidates_features = np.hstack([candidates_tfidf.toarray(), candidates_df[keywords].values])\n",
        "companies_features = np.hstack([companies_tfidf.toarray(), companies_df[keywords].values])\n",
        "vacancies_features = np.hstack([vacancies_tfidf.toarray(), vacancies_df[keywords].values])"
      ],
      "metadata": {
        "id": "qCUb8Pa-C9xC"
      },
      "execution_count": 33,
      "outputs": []
    },
    {
      "cell_type": "code",
      "source": [
        "# Cosine Similarity\n",
        "candidate_company_sim = cosine_similarity(candidates_features, companies_features)\n",
        "candidate_vacancy_sim = cosine_similarity(candidates_features, vacancies_features)"
      ],
      "metadata": {
        "id": "lR0S2QtIDBRy"
      },
      "execution_count": 34,
      "outputs": []
    },
    {
      "cell_type": "code",
      "source": [
        "# Function to get top N matches for each vacancy\n",
        "def get_top_matches(candidate_vacancy_sim, candidate_company_sim, top_n=3, api_key=None):\n",
        "    top_matches = {}\n",
        "    matches_for_api = []\n",
        "\n",
        "    for vacancy_id in range(candidate_vacancy_sim.shape[1]):\n",
        "        vacancy_sim_scores = candidate_vacancy_sim[:, vacancy_id]\n",
        "        company_id = vacancies_df.loc[vacancy_id, 'company_id']\n",
        "        company_sim_scores = candidate_company_sim[:, company_id]\n",
        "\n",
        "        # Calculate combined similarity\n",
        "        combined_sim_scores = (vacancy_sim_scores + company_sim_scores) / 2.0\n",
        "\n",
        "        top_candidate_indices = np.argsort(combined_sim_scores)[::-1][:top_n]\n",
        "\n",
        "        # Convert NumPy int64 to native Python int before appending to matches_for_api\n",
        "        matches_for_api.append({\n",
        "            \"vacancy_id\": int(vacancy_id),\n",
        "            \"company_id\": int(company_id),\n",
        "            \"candidate_ids\": [int(idx) for idx in top_candidate_indices.tolist()]\n",
        "        })\n",
        "\n",
        "    # Uncomment the lines below to make an API call for match evaluation\n",
        "    api_url = \"https://staging-phloneiron-case-backend-57k2.encr.app/score\"\n",
        "    response = requests.post(api_url, data=json.dumps({\"matches\": matches_for_api}), headers={\"Authorization\": f\"Bearer {api_key}\"})\n",
        "    if response.status_code == 200:\n",
        "        top_matches = response.json()\n",
        "    else:\n",
        "        top_matches = {}\n",
        "\n",
        "    return top_matches  # Replace with `top_matches` after enabling the API call"
      ],
      "metadata": {
        "id": "tPZtbd3kDD3L"
      },
      "execution_count": 35,
      "outputs": []
    },
    {
      "cell_type": "code",
      "source": [
        "# Get the top 3 matches for each vacancy\n",
        "api_key = \"f0302950-8bf9-4dd6-97f8-2b661e0b58e2\"  # Replace with your actual API key\n",
        "top_3_matches = get_top_matches(candidate_vacancy_sim, candidate_company_sim, top_n=3, api_key=api_key)"
      ],
      "metadata": {
        "id": "J0p75CUADYde"
      },
      "execution_count": 36,
      "outputs": []
    },
    {
      "cell_type": "code",
      "execution_count": 37,
      "metadata": {
        "colab": {
          "base_uri": "https://localhost:8080/"
        },
        "id": "6eUREgqmriEW",
        "outputId": "8257e937-080f-44e7-eb42-1285caf80337"
      },
      "outputs": [
        {
          "output_type": "stream",
          "name": "stdout",
          "text": [
            "{}\n"
          ]
        }
      ],
      "source": [
        "# Display or save the top 3 matches\n",
        "print(top_3_matches)"
      ]
    },
    {
      "cell_type": "code",
      "execution_count": null,
      "metadata": {
        "id": "zD8gC3otriEW"
      },
      "outputs": [],
      "source": [
        "# Based on the sample data, we have the following features available for feature engineering:\n",
        "\n",
        "# - For candidates: `mission_statement`\n",
        "# - For companies: `mission_statement`\n",
        "# - For vacancies: `description`\n",
        "\n",
        "# Given the constraints mentioned in the instructions, we might want to focus on:\n",
        "\n",
        "# 1. **Personal Values**: As this information is likely embedded in the `mission_statement` of both candidates and companies, we should consider this feature prominently when calculating similarities.\n",
        "\n",
        "# 2. **Area of Expertise**: This could be inferred from keywords in the `description` of vacancies and `mission_statement` of candidates. We could include domain-specific keywords as features.\n",
        "\n",
        "# #### Proposed Approach:\n",
        "\n",
        "# 1. **Text Preprocessing**: Preprocess text data to remove noise and make it uniform.\n",
        "# 2. **Keyword Extraction**: Identify domain-specific keywords from vacancies and add them as features in the candidates' and companies' data.\n",
        "# 3. **TF-IDF Vectorization**: Convert the preprocessed and enriched text data into a numerical format using TF-IDF.\n",
        "# 4. **Cosine Similarity**: Calculate the similarity between candidates and vacancies/companies using the TF-IDF vectors.\n",
        "\n"
      ]
    },
    {
      "cell_type": "code",
      "source": [
        "# The feature engineering has been adjusted based on the proposed approach:\n",
        "\n",
        "# 1. Text from mission statements and job descriptions has been preprocessed.\n",
        "# 2. Keyword presence (for example, 'manager', 'operations', 'fashion') has been added as features.\n",
        "# 3. TF-IDF vectorization has been applied to the processed text.\n",
        "# 4. Cosine similarity has been calculated using the enriched feature sets.\n",
        "\n",
        "# The resulting similarity matrices have the following shapes:\n",
        "\n",
        "# - `candidate_company_sim`: (343 candidates x 118 companies)\n",
        "# - `candidate_vacancy_sim`: (343 candidates x 492 vacancies)\n",
        "\n",
        "# These matrices can now be used to find the top matches based on the new features."
      ],
      "metadata": {
        "id": "LLkWDyszET0F"
      },
      "execution_count": null,
      "outputs": []
    },
    {
      "cell_type": "code",
      "source": [
        "# The top 3 matches for each vacancy based on the feature set calculated. following are some of the top matches for demonstration (limited to the first 5 for brevity):\n",
        "\n",
        "# 1. **Vacancy ID 0** from **Company ID 97**\n",
        "#    - Top Candidates: [109, 245, 112]\n",
        "\n",
        "# 2. **Vacancy ID 1** from **Company ID 50**\n",
        "#    - Top Candidates: [160, 124, 97]\n",
        "\n",
        "# 3. **Vacancy ID 2** from **Company ID 58**\n",
        "#    - Top Candidates: [113, 53, 63]\n",
        "\n",
        "# 4. **Vacancy ID 3** from **Company ID 50**\n",
        "#    - Top Candidates: [160, 114, 97]\n",
        "\n",
        "# 5. **Vacancy ID 4** from **Company ID 68**\n",
        "#    - Top Candidates: [217, 68, 55]\n",
        "\n",
        "# These matches are based on both the job descriptions and mission statements, enriched with domain-specific keywords.\n",
        "\n"
      ],
      "metadata": {
        "id": "AljxDN40EYbt"
      },
      "execution_count": null,
      "outputs": []
    }
  ],
  "metadata": {
    "kernelspec": {
      "display_name": "Python 3",
      "language": "python",
      "name": "python3"
    },
    "language_info": {
      "codemirror_mode": {
        "name": "ipython",
        "version": 3
      },
      "file_extension": ".py",
      "mimetype": "text/x-python",
      "name": "python",
      "nbconvert_exporter": "python",
      "pygments_lexer": "ipython3",
      "version": "3.11.2"
    },
    "orig_nbformat": 4,
    "colab": {
      "provenance": []
    }
  },
  "nbformat": 4,
  "nbformat_minor": 0
}