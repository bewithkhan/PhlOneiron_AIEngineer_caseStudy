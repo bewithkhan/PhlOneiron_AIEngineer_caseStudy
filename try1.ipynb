{
  "nbformat": 4,
  "nbformat_minor": 0,
  "metadata": {
    "colab": {
      "provenance": []
    },
    "kernelspec": {
      "name": "python3",
      "display_name": "Python 3"
    },
    "language_info": {
      "name": "python"
    }
  },
  "cells": [
    {
      "cell_type": "code",
      "execution_count": 76,
      "metadata": {
        "id": "cwZ-6sJX4usn"
      },
      "outputs": [],
      "source": [
        "# Import necessary libraries\n",
        "import pandas as pd\n",
        "import numpy as np\n",
        "import json\n",
        "import requests  # For making API calls\n",
        "from sklearn.feature_extraction.text import TfidfVectorizer\n",
        "from sklearn.metrics.pairwise import cosine_similarity"
      ]
    },
    {
      "cell_type": "code",
      "source": [
        "# Function to call external API to evaluate match quality\n",
        "def external_api_evaluate_match(matches, api_key):\n",
        "    api_url = \"https://staging-phloneiron-case-backend-57k2.encr.app/score\"\n",
        "    response = requests.post(api_url, data=json.dumps({\"matches\": matches}), headers={\"Authorization\": f\"Bearer {api_key}\"})\n",
        "    print(f\"API Response: {response.json()}\")  # Debug print\n",
        "    if response.status_code == 200:\n",
        "        score = response.json()\n",
        "    else:\n",
        "        score = {}\n",
        "    return score"
      ],
      "metadata": {
        "id": "tUZrrave41_0"
      },
      "execution_count": 77,
      "outputs": []
    },
    {
      "cell_type": "code",
      "source": [
        "from google.colab import files\n",
        "uploaded = files.upload()"
      ],
      "metadata": {
        "colab": {
          "base_uri": "https://localhost:8080/",
          "height": 151
        },
        "id": "aM7BmGmP46y5",
        "outputId": "8dc7cdc6-f312-4fca-d020-fd71b415f6c5"
      },
      "execution_count": 78,
      "outputs": [
        {
          "output_type": "display_data",
          "data": {
            "text/plain": [
              "<IPython.core.display.HTML object>"
            ],
            "text/html": [
              "\n",
              "     <input type=\"file\" id=\"files-df36ebb4-5db5-460d-bdb3-1e2986cc6e34\" name=\"files[]\" multiple disabled\n",
              "        style=\"border:none\" />\n",
              "     <output id=\"result-df36ebb4-5db5-460d-bdb3-1e2986cc6e34\">\n",
              "      Upload widget is only available when the cell has been executed in the\n",
              "      current browser session. Please rerun this cell to enable.\n",
              "      </output>\n",
              "      <script>// Copyright 2017 Google LLC\n",
              "//\n",
              "// Licensed under the Apache License, Version 2.0 (the \"License\");\n",
              "// you may not use this file except in compliance with the License.\n",
              "// You may obtain a copy of the License at\n",
              "//\n",
              "//      http://www.apache.org/licenses/LICENSE-2.0\n",
              "//\n",
              "// Unless required by applicable law or agreed to in writing, software\n",
              "// distributed under the License is distributed on an \"AS IS\" BASIS,\n",
              "// WITHOUT WARRANTIES OR CONDITIONS OF ANY KIND, either express or implied.\n",
              "// See the License for the specific language governing permissions and\n",
              "// limitations under the License.\n",
              "\n",
              "/**\n",
              " * @fileoverview Helpers for google.colab Python module.\n",
              " */\n",
              "(function(scope) {\n",
              "function span(text, styleAttributes = {}) {\n",
              "  const element = document.createElement('span');\n",
              "  element.textContent = text;\n",
              "  for (const key of Object.keys(styleAttributes)) {\n",
              "    element.style[key] = styleAttributes[key];\n",
              "  }\n",
              "  return element;\n",
              "}\n",
              "\n",
              "// Max number of bytes which will be uploaded at a time.\n",
              "const MAX_PAYLOAD_SIZE = 100 * 1024;\n",
              "\n",
              "function _uploadFiles(inputId, outputId) {\n",
              "  const steps = uploadFilesStep(inputId, outputId);\n",
              "  const outputElement = document.getElementById(outputId);\n",
              "  // Cache steps on the outputElement to make it available for the next call\n",
              "  // to uploadFilesContinue from Python.\n",
              "  outputElement.steps = steps;\n",
              "\n",
              "  return _uploadFilesContinue(outputId);\n",
              "}\n",
              "\n",
              "// This is roughly an async generator (not supported in the browser yet),\n",
              "// where there are multiple asynchronous steps and the Python side is going\n",
              "// to poll for completion of each step.\n",
              "// This uses a Promise to block the python side on completion of each step,\n",
              "// then passes the result of the previous step as the input to the next step.\n",
              "function _uploadFilesContinue(outputId) {\n",
              "  const outputElement = document.getElementById(outputId);\n",
              "  const steps = outputElement.steps;\n",
              "\n",
              "  const next = steps.next(outputElement.lastPromiseValue);\n",
              "  return Promise.resolve(next.value.promise).then((value) => {\n",
              "    // Cache the last promise value to make it available to the next\n",
              "    // step of the generator.\n",
              "    outputElement.lastPromiseValue = value;\n",
              "    return next.value.response;\n",
              "  });\n",
              "}\n",
              "\n",
              "/**\n",
              " * Generator function which is called between each async step of the upload\n",
              " * process.\n",
              " * @param {string} inputId Element ID of the input file picker element.\n",
              " * @param {string} outputId Element ID of the output display.\n",
              " * @return {!Iterable<!Object>} Iterable of next steps.\n",
              " */\n",
              "function* uploadFilesStep(inputId, outputId) {\n",
              "  const inputElement = document.getElementById(inputId);\n",
              "  inputElement.disabled = false;\n",
              "\n",
              "  const outputElement = document.getElementById(outputId);\n",
              "  outputElement.innerHTML = '';\n",
              "\n",
              "  const pickedPromise = new Promise((resolve) => {\n",
              "    inputElement.addEventListener('change', (e) => {\n",
              "      resolve(e.target.files);\n",
              "    });\n",
              "  });\n",
              "\n",
              "  const cancel = document.createElement('button');\n",
              "  inputElement.parentElement.appendChild(cancel);\n",
              "  cancel.textContent = 'Cancel upload';\n",
              "  const cancelPromise = new Promise((resolve) => {\n",
              "    cancel.onclick = () => {\n",
              "      resolve(null);\n",
              "    };\n",
              "  });\n",
              "\n",
              "  // Wait for the user to pick the files.\n",
              "  const files = yield {\n",
              "    promise: Promise.race([pickedPromise, cancelPromise]),\n",
              "    response: {\n",
              "      action: 'starting',\n",
              "    }\n",
              "  };\n",
              "\n",
              "  cancel.remove();\n",
              "\n",
              "  // Disable the input element since further picks are not allowed.\n",
              "  inputElement.disabled = true;\n",
              "\n",
              "  if (!files) {\n",
              "    return {\n",
              "      response: {\n",
              "        action: 'complete',\n",
              "      }\n",
              "    };\n",
              "  }\n",
              "\n",
              "  for (const file of files) {\n",
              "    const li = document.createElement('li');\n",
              "    li.append(span(file.name, {fontWeight: 'bold'}));\n",
              "    li.append(span(\n",
              "        `(${file.type || 'n/a'}) - ${file.size} bytes, ` +\n",
              "        `last modified: ${\n",
              "            file.lastModifiedDate ? file.lastModifiedDate.toLocaleDateString() :\n",
              "                                    'n/a'} - `));\n",
              "    const percent = span('0% done');\n",
              "    li.appendChild(percent);\n",
              "\n",
              "    outputElement.appendChild(li);\n",
              "\n",
              "    const fileDataPromise = new Promise((resolve) => {\n",
              "      const reader = new FileReader();\n",
              "      reader.onload = (e) => {\n",
              "        resolve(e.target.result);\n",
              "      };\n",
              "      reader.readAsArrayBuffer(file);\n",
              "    });\n",
              "    // Wait for the data to be ready.\n",
              "    let fileData = yield {\n",
              "      promise: fileDataPromise,\n",
              "      response: {\n",
              "        action: 'continue',\n",
              "      }\n",
              "    };\n",
              "\n",
              "    // Use a chunked sending to avoid message size limits. See b/62115660.\n",
              "    let position = 0;\n",
              "    do {\n",
              "      const length = Math.min(fileData.byteLength - position, MAX_PAYLOAD_SIZE);\n",
              "      const chunk = new Uint8Array(fileData, position, length);\n",
              "      position += length;\n",
              "\n",
              "      const base64 = btoa(String.fromCharCode.apply(null, chunk));\n",
              "      yield {\n",
              "        response: {\n",
              "          action: 'append',\n",
              "          file: file.name,\n",
              "          data: base64,\n",
              "        },\n",
              "      };\n",
              "\n",
              "      let percentDone = fileData.byteLength === 0 ?\n",
              "          100 :\n",
              "          Math.round((position / fileData.byteLength) * 100);\n",
              "      percent.textContent = `${percentDone}% done`;\n",
              "\n",
              "    } while (position < fileData.byteLength);\n",
              "  }\n",
              "\n",
              "  // All done.\n",
              "  yield {\n",
              "    response: {\n",
              "      action: 'complete',\n",
              "    }\n",
              "  };\n",
              "}\n",
              "\n",
              "scope.google = scope.google || {};\n",
              "scope.google.colab = scope.google.colab || {};\n",
              "scope.google.colab._files = {\n",
              "  _uploadFiles,\n",
              "  _uploadFilesContinue,\n",
              "};\n",
              "})(self);\n",
              "</script> "
            ]
          },
          "metadata": {}
        },
        {
          "output_type": "stream",
          "name": "stdout",
          "text": [
            "Saving candidates.csv to candidates.csv\n",
            "Saving companies.csv to companies.csv\n",
            "Saving vacancies.csv to vacancies.csv\n"
          ]
        }
      ]
    },
    {
      "cell_type": "code",
      "source": [
        "\n",
        "# Load the data (Replace these lines with actual data loading code in Google Colab)\n",
        "candidates_df = pd.read_csv(\"candidates.csv\")\n",
        "companies_df = pd.read_csv(\"companies.csv\")\n",
        "vacancies_df = pd.read_csv(\"vacancies.csv\")"
      ],
      "metadata": {
        "id": "mrJyfgj647RA"
      },
      "execution_count": 79,
      "outputs": []
    },
    {
      "cell_type": "code",
      "source": [
        "# Simplified text preprocessing\n",
        "def simple_preprocess_text(text):\n",
        "    text = text.lower()\n",
        "    tokens = text.split()\n",
        "    filtered_tokens = [token for token in tokens if token.isalnum()]\n",
        "    return ' '.join(filtered_tokens)"
      ],
      "metadata": {
        "id": "JyMxw5MU5Koj"
      },
      "execution_count": 80,
      "outputs": []
    },
    {
      "cell_type": "code",
      "source": [
        "# Apply text preprocessing\n",
        "candidates_df['processed_mission'] = candidates_df['mission_statement'].apply(simple_preprocess_text)\n",
        "companies_df['processed_mission'] = companies_df['mission_statement'].apply(simple_preprocess_text)\n",
        "vacancies_df['processed_description'] = vacancies_df['description'].apply(simple_preprocess_text)"
      ],
      "metadata": {
        "id": "EPInVZ_55Nc6"
      },
      "execution_count": 81,
      "outputs": []
    },
    {
      "cell_type": "code",
      "source": [
        "# Feature engineering using TfidfVectorizer\n",
        "combined_corpus = pd.concat([candidates_df['processed_mission'], companies_df['processed_mission'], vacancies_df['processed_description']], ignore_index=True)\n",
        "tfidf_vectorizer = TfidfVectorizer()\n",
        "tfidf_vectorizer.fit(combined_corpus)\n",
        "\n",
        "candidates_tfidf = tfidf_vectorizer.transform(candidates_df['processed_mission'])\n",
        "companies_tfidf = tfidf_vectorizer.transform(companies_df['processed_mission'])\n",
        "vacancies_tfidf = tfidf_vectorizer.transform(vacancies_df['processed_description'])"
      ],
      "metadata": {
        "id": "6fR4j6dP8fYA"
      },
      "execution_count": 82,
      "outputs": []
    },
    {
      "cell_type": "code",
      "source": [
        "# Calculate cosine similarity\n",
        "candidate_company_sim = cosine_similarity(candidates_tfidf, companies_tfidf)\n",
        "candidate_vacancy_sim = cosine_similarity(candidates_tfidf, vacancies_tfidf)"
      ],
      "metadata": {
        "id": "JnG_zFmj8nWV"
      },
      "execution_count": 83,
      "outputs": []
    },
    {
      "cell_type": "code",
      "source": [
        "# Function to get top N matches for each vacancy\n",
        "def get_top_matches(candidate_vacancy_sim, candidate_company_sim, top_n=3, api_key=None):\n",
        "    top_matches = {}\n",
        "    matches_for_api = []\n",
        "\n",
        "    for vacancy_id in range(candidate_vacancy_sim.shape[1]):\n",
        "        vacancy_sim_scores = candidate_vacancy_sim[:, vacancy_id]\n",
        "        company_id = vacancies_df.loc[vacancy_id, 'company_id']\n",
        "        company_sim_scores = candidate_company_sim[:, company_id]\n",
        "\n",
        "        # Calculate combined similarity\n",
        "        combined_sim_scores = (vacancy_sim_scores + company_sim_scores) / 2.0\n",
        "\n",
        "        top_candidate_indices = np.argsort(combined_sim_scores)[::-1][:top_n]\n",
        "\n",
        "        # Convert NumPy int64 to native Python int before appending to matches_for_api\n",
        "        matches_for_api.append({\n",
        "            \"vacancy_id\": int(vacancy_id),\n",
        "            \"company_id\": int(company_id),\n",
        "            \"candidate_ids\": [int(idx) for idx in top_candidate_indices.tolist()]\n",
        "        })\n",
        "\n",
        "    # Evaluate matches using the external API\n",
        "    print(f\"Matches for API: {matches_for_api}\")  # Debug print\n",
        "    api_scores = external_api_evaluate_match(matches_for_api, api_key)\n",
        "\n",
        "    # Finalize top matches based on API scores (implementation will depend on API response structure)\n",
        "    top_matches = api_scores  # Replace this with the actual logic based on API response structure\n",
        "\n",
        "    return top_matches\n"
      ],
      "metadata": {
        "id": "CSlLXOUt8qa4"
      },
      "execution_count": 84,
      "outputs": []
    },
    {
      "cell_type": "code",
      "source": [
        "# Your actual API key here\n",
        "api_key = \"f0302950-8bf9-4dd6-97f8-2b661e0b58e2\""
      ],
      "metadata": {
        "id": "oXCrEmNp8tyG"
      },
      "execution_count": 85,
      "outputs": []
    },
    {
      "cell_type": "code",
      "source": [
        "# Get the top 3 matches for each vacancy\n",
        "top_3_matches = get_top_matches(candidate_vacancy_sim, candidate_company_sim, top_n=3, api_key=api_key)"
      ],
      "metadata": {
        "colab": {
          "base_uri": "https://localhost:8080/"
        },
        "id": "4ZWQuF4x8zXM",
        "outputId": "79ae8f84-37e8-42b9-a353-3a4e89da6ecc"
      },
      "execution_count": 86,
      "outputs": [
        {
          "output_type": "stream",
          "name": "stdout",
          "text": [
            "Matches for API: [{'vacancy_id': 0, 'company_id': 97, 'candidate_ids': [109, 33, 113]}, {'vacancy_id': 1, 'company_id': 50, 'candidate_ids': [160, 124, 97]}, {'vacancy_id': 2, 'company_id': 58, 'candidate_ids': [113, 53, 63]}, {'vacancy_id': 3, 'company_id': 50, 'candidate_ids': [160, 114, 97]}, {'vacancy_id': 4, 'company_id': 68, 'candidate_ids': [217, 68, 243]}, {'vacancy_id': 5, 'company_id': 51, 'candidate_ids': [7, 90, 95]}, {'vacancy_id': 6, 'company_id': 83, 'candidate_ids': [136, 329, 115]}, {'vacancy_id': 7, 'company_id': 18, 'candidate_ids': [299, 338, 260]}, {'vacancy_id': 8, 'company_id': 38, 'candidate_ids': [277, 4, 60]}, {'vacancy_id': 9, 'company_id': 68, 'candidate_ids': [68, 97, 43]}, {'vacancy_id': 10, 'company_id': 80, 'candidate_ids': [63, 97, 46]}, {'vacancy_id': 11, 'company_id': 100, 'candidate_ids': [255, 100, 246]}, {'vacancy_id': 12, 'company_id': 19, 'candidate_ids': [336, 285, 90]}, {'vacancy_id': 13, 'company_id': 103, 'candidate_ids': [97, 28, 114]}, {'vacancy_id': 14, 'company_id': 110, 'candidate_ids': [146, 51, 298]}, {'vacancy_id': 15, 'company_id': 63, 'candidate_ids': [160, 97, 28]}, {'vacancy_id': 16, 'company_id': 46, 'candidate_ids': [95, 186, 146]}, {'vacancy_id': 17, 'company_id': 45, 'candidate_ids': [235, 144, 271]}, {'vacancy_id': 18, 'company_id': 43, 'candidate_ids': [314, 285, 330]}, {'vacancy_id': 19, 'company_id': 11, 'candidate_ids': [258, 321, 63]}, {'vacancy_id': 20, 'company_id': 2, 'candidate_ids': [166, 202, 203]}, {'vacancy_id': 21, 'company_id': 82, 'candidate_ids': [206, 335, 198]}, {'vacancy_id': 22, 'company_id': 52, 'candidate_ids': [95, 157, 10]}, {'vacancy_id': 23, 'company_id': 59, 'candidate_ids': [314, 285, 234]}, {'vacancy_id': 24, 'company_id': 71, 'candidate_ids': [202, 166, 21]}, {'vacancy_id': 25, 'company_id': 5, 'candidate_ids': [173, 238, 59]}, {'vacancy_id': 26, 'company_id': 19, 'candidate_ids': [285, 314, 90]}, {'vacancy_id': 27, 'company_id': 58, 'candidate_ids': [113, 300, 63]}, {'vacancy_id': 28, 'company_id': 9, 'candidate_ids': [256, 78, 101]}, {'vacancy_id': 29, 'company_id': 83, 'candidate_ids': [136, 329, 63]}, {'vacancy_id': 30, 'company_id': 55, 'candidate_ids': [256, 78, 101]}, {'vacancy_id': 31, 'company_id': 17, 'candidate_ids': [7, 173, 26]}, {'vacancy_id': 32, 'company_id': 95, 'candidate_ids': [70, 325, 255]}, {'vacancy_id': 33, 'company_id': 28, 'candidate_ids': [180, 287, 64]}, {'vacancy_id': 34, 'company_id': 23, 'candidate_ids': [314, 285, 306]}, {'vacancy_id': 35, 'company_id': 17, 'candidate_ids': [7, 315, 173]}, {'vacancy_id': 36, 'company_id': 52, 'candidate_ids': [157, 95, 139]}, {'vacancy_id': 37, 'company_id': 1, 'candidate_ids': [122, 60, 4]}, {'vacancy_id': 38, 'company_id': 23, 'candidate_ids': [314, 285, 90]}, {'vacancy_id': 39, 'company_id': 113, 'candidate_ids': [152, 28, 114]}, {'vacancy_id': 40, 'company_id': 65, 'candidate_ids': [134, 237, 276]}, {'vacancy_id': 41, 'company_id': 95, 'candidate_ids': [250, 337, 70]}, {'vacancy_id': 42, 'company_id': 49, 'candidate_ids': [31, 26, 315]}, {'vacancy_id': 43, 'company_id': 95, 'candidate_ids': [342, 70, 257]}, {'vacancy_id': 44, 'company_id': 76, 'candidate_ids': [95, 253, 157]}, {'vacancy_id': 45, 'company_id': 101, 'candidate_ids': [329, 63, 136]}, {'vacancy_id': 46, 'company_id': 23, 'candidate_ids': [314, 338, 285]}, {'vacancy_id': 47, 'company_id': 12, 'candidate_ids': [193, 78, 319]}, {'vacancy_id': 48, 'company_id': 116, 'candidate_ids': [109, 33, 79]}, {'vacancy_id': 49, 'company_id': 44, 'candidate_ids': [329, 63, 245]}, {'vacancy_id': 50, 'company_id': 3, 'candidate_ids': [314, 285, 90]}, {'vacancy_id': 51, 'company_id': 33, 'candidate_ids': [109, 33, 79]}, {'vacancy_id': 52, 'company_id': 103, 'candidate_ids': [106, 97, 7]}, {'vacancy_id': 53, 'company_id': 91, 'candidate_ids': [233, 7, 69]}, {'vacancy_id': 54, 'company_id': 34, 'candidate_ids': [103, 2, 105]}, {'vacancy_id': 55, 'company_id': 99, 'candidate_ids': [109, 201, 245]}, {'vacancy_id': 56, 'company_id': 101, 'candidate_ids': [63, 329, 46]}, {'vacancy_id': 57, 'company_id': 41, 'candidate_ids': [27, 75, 41]}, {'vacancy_id': 58, 'company_id': 73, 'candidate_ids': [4, 60, 63]}, {'vacancy_id': 59, 'company_id': 10, 'candidate_ids': [216, 255, 280]}, {'vacancy_id': 60, 'company_id': 98, 'candidate_ids': [78, 256, 319]}, {'vacancy_id': 61, 'company_id': 18, 'candidate_ids': [260, 283, 63]}, {'vacancy_id': 62, 'company_id': 33, 'candidate_ids': [33, 316, 247]}, {'vacancy_id': 63, 'company_id': 66, 'candidate_ids': [5, 147, 121]}, {'vacancy_id': 64, 'company_id': 22, 'candidate_ids': [2, 270, 190]}, {'vacancy_id': 65, 'company_id': 10, 'candidate_ids': [7, 68, 277]}, {'vacancy_id': 66, 'company_id': 41, 'candidate_ids': [335, 75, 27]}, {'vacancy_id': 67, 'company_id': 92, 'candidate_ids': [26, 294, 315]}, {'vacancy_id': 68, 'company_id': 33, 'candidate_ids': [33, 195, 76]}, {'vacancy_id': 69, 'company_id': 47, 'candidate_ids': [78, 21, 319]}, {'vacancy_id': 70, 'company_id': 35, 'candidate_ids': [47, 55, 93]}, {'vacancy_id': 71, 'company_id': 32, 'candidate_ids': [197, 191, 21]}, {'vacancy_id': 72, 'company_id': 109, 'candidate_ids': [188, 77, 331]}, {'vacancy_id': 73, 'company_id': 35, 'candidate_ids': [300, 33, 79]}, {'vacancy_id': 74, 'company_id': 57, 'candidate_ids': [329, 136, 63]}, {'vacancy_id': 75, 'company_id': 8, 'candidate_ids': [202, 166, 263]}, {'vacancy_id': 76, 'company_id': 7, 'candidate_ids': [133, 13, 147]}, {'vacancy_id': 77, 'company_id': 109, 'candidate_ids': [54, 149, 249]}, {'vacancy_id': 78, 'company_id': 34, 'candidate_ids': [103, 2, 105]}, {'vacancy_id': 79, 'company_id': 1, 'candidate_ids': [277, 60, 63]}, {'vacancy_id': 80, 'company_id': 73, 'candidate_ids': [277, 63, 60]}, {'vacancy_id': 81, 'company_id': 117, 'candidate_ids': [255, 257, 7]}, {'vacancy_id': 82, 'company_id': 20, 'candidate_ids': [109, 33, 79]}, {'vacancy_id': 83, 'company_id': 4, 'candidate_ids': [277, 339, 60]}, {'vacancy_id': 84, 'company_id': 56, 'candidate_ids': [95, 78, 49]}, {'vacancy_id': 85, 'company_id': 1, 'candidate_ids': [277, 55, 60]}, {'vacancy_id': 86, 'company_id': 24, 'candidate_ids': [277, 4, 313]}, {'vacancy_id': 87, 'company_id': 31, 'candidate_ids': [68, 63, 95]}, {'vacancy_id': 88, 'company_id': 34, 'candidate_ids': [103, 2, 105]}, {'vacancy_id': 89, 'company_id': 75, 'candidate_ids': [2, 105, 103]}, {'vacancy_id': 90, 'company_id': 80, 'candidate_ids': [287, 315, 63]}, {'vacancy_id': 91, 'company_id': 63, 'candidate_ids': [160, 28, 280]}, {'vacancy_id': 92, 'company_id': 93, 'candidate_ids': [122, 267, 297]}, {'vacancy_id': 93, 'company_id': 26, 'candidate_ids': [329, 63, 115]}, {'vacancy_id': 94, 'company_id': 71, 'candidate_ids': [166, 202, 263]}, {'vacancy_id': 95, 'company_id': 115, 'candidate_ids': [214, 342, 277]}, {'vacancy_id': 96, 'company_id': 96, 'candidate_ids': [49, 109, 33]}, {'vacancy_id': 97, 'company_id': 61, 'candidate_ids': [26, 261, 301]}, {'vacancy_id': 98, 'company_id': 43, 'candidate_ids': [227, 314, 336]}, {'vacancy_id': 99, 'company_id': 82, 'candidate_ids': [79, 33, 113]}, {'vacancy_id': 100, 'company_id': 21, 'candidate_ids': [161, 144, 325]}, {'vacancy_id': 101, 'company_id': 88, 'candidate_ids': [26, 261, 294]}, {'vacancy_id': 102, 'company_id': 114, 'candidate_ids': [186, 7, 287]}, {'vacancy_id': 103, 'company_id': 66, 'candidate_ids': [121, 133, 13]}, {'vacancy_id': 104, 'company_id': 109, 'candidate_ids': [260, 249, 54]}, {'vacancy_id': 105, 'company_id': 23, 'candidate_ids': [314, 285, 336]}, {'vacancy_id': 106, 'company_id': 100, 'candidate_ids': [7, 97, 63]}, {'vacancy_id': 107, 'company_id': 99, 'candidate_ids': [55, 217, 93]}, {'vacancy_id': 108, 'company_id': 62, 'candidate_ids': [215, 32, 220]}, {'vacancy_id': 109, 'company_id': 70, 'candidate_ids': [192, 84, 21]}, {'vacancy_id': 110, 'company_id': 20, 'candidate_ids': [300, 109, 33]}, {'vacancy_id': 111, 'company_id': 33, 'candidate_ids': [7, 33, 109]}, {'vacancy_id': 112, 'company_id': 72, 'candidate_ids': [236, 63, 321]}, {'vacancy_id': 113, 'company_id': 45, 'candidate_ids': [16, 144, 161]}, {'vacancy_id': 114, 'company_id': 104, 'candidate_ids': [4, 60, 277]}, {'vacancy_id': 115, 'company_id': 107, 'candidate_ids': [153, 30, 225]}, {'vacancy_id': 116, 'company_id': 106, 'candidate_ids': [97, 160, 124]}, {'vacancy_id': 117, 'company_id': 92, 'candidate_ids': [297, 26, 315]}, {'vacancy_id': 118, 'company_id': 52, 'candidate_ids': [33, 316, 157]}, {'vacancy_id': 119, 'company_id': 56, 'candidate_ids': [76, 224, 95]}, {'vacancy_id': 120, 'company_id': 92, 'candidate_ids': [261, 26, 315]}, {'vacancy_id': 121, 'company_id': 4, 'candidate_ids': [277, 339, 63]}, {'vacancy_id': 122, 'company_id': 62, 'candidate_ids': [69, 32, 0]}, {'vacancy_id': 123, 'company_id': 76, 'candidate_ids': [95, 157, 283]}, {'vacancy_id': 124, 'company_id': 115, 'candidate_ids': [214, 342, 277]}, {'vacancy_id': 125, 'company_id': 44, 'candidate_ids': [329, 63, 7]}, {'vacancy_id': 126, 'company_id': 97, 'candidate_ids': [109, 300, 33]}, {'vacancy_id': 127, 'company_id': 63, 'candidate_ids': [87, 160, 114]}, {'vacancy_id': 128, 'company_id': 73, 'candidate_ids': [277, 63, 97]}, {'vacancy_id': 129, 'company_id': 109, 'candidate_ids': [126, 252, 276]}, {'vacancy_id': 130, 'company_id': 109, 'candidate_ids': [260, 54, 249]}, {'vacancy_id': 131, 'company_id': 55, 'candidate_ids': [101, 256, 78]}, {'vacancy_id': 132, 'company_id': 85, 'candidate_ids': [75, 141, 151]}, {'vacancy_id': 133, 'company_id': 24, 'candidate_ids': [283, 63, 277]}, {'vacancy_id': 134, 'company_id': 35, 'candidate_ids': [287, 7, 300]}, {'vacancy_id': 135, 'company_id': 94, 'candidate_ids': [130, 255, 337]}, {'vacancy_id': 136, 'company_id': 95, 'candidate_ids': [325, 7, 70]}, {'vacancy_id': 137, 'company_id': 61, 'candidate_ids': [26, 315, 261]}, {'vacancy_id': 138, 'company_id': 7, 'candidate_ids': [183, 133, 283]}, {'vacancy_id': 139, 'company_id': 74, 'candidate_ids': [103, 188, 190]}, {'vacancy_id': 140, 'company_id': 72, 'candidate_ids': [236, 321, 96]}, {'vacancy_id': 141, 'company_id': 74, 'candidate_ids': [316, 33, 116]}, {'vacancy_id': 142, 'company_id': 67, 'candidate_ids': [329, 63, 136]}, {'vacancy_id': 143, 'company_id': 70, 'candidate_ids': [84, 33, 316]}, {'vacancy_id': 144, 'company_id': 80, 'candidate_ids': [7, 287, 97]}, {'vacancy_id': 145, 'company_id': 76, 'candidate_ids': [95, 146, 157]}, {'vacancy_id': 146, 'company_id': 114, 'candidate_ids': [186, 315, 7]}, {'vacancy_id': 147, 'company_id': 74, 'candidate_ids': [63, 190, 173]}, {'vacancy_id': 148, 'company_id': 104, 'candidate_ids': [126, 276, 277]}, {'vacancy_id': 149, 'company_id': 114, 'candidate_ids': [299, 198, 341]}, {'vacancy_id': 150, 'company_id': 16, 'candidate_ids': [166, 202, 204]}, {'vacancy_id': 151, 'company_id': 18, 'candidate_ids': [191, 260, 54]}, {'vacancy_id': 152, 'company_id': 53, 'candidate_ids': [34, 307, 277]}, {'vacancy_id': 153, 'company_id': 98, 'candidate_ids': [78, 101, 256]}, {'vacancy_id': 154, 'company_id': 62, 'candidate_ids': [32, 220, 215]}, {'vacancy_id': 155, 'company_id': 68, 'candidate_ids': [68, 7, 97]}, {'vacancy_id': 156, 'company_id': 47, 'candidate_ids': [307, 299, 78]}, {'vacancy_id': 157, 'company_id': 53, 'candidate_ids': [277, 60, 252]}, {'vacancy_id': 158, 'company_id': 39, 'candidate_ids': [136, 329, 63]}, {'vacancy_id': 159, 'company_id': 83, 'candidate_ids': [260, 241, 46]}, {'vacancy_id': 160, 'company_id': 97, 'candidate_ids': [109, 33, 113]}, {'vacancy_id': 161, 'company_id': 17, 'candidate_ids': [294, 288, 26]}, {'vacancy_id': 162, 'company_id': 49, 'candidate_ids': [26, 315, 268]}, {'vacancy_id': 163, 'company_id': 66, 'candidate_ids': [5, 183, 147]}, {'vacancy_id': 164, 'company_id': 23, 'candidate_ids': [314, 90, 306]}, {'vacancy_id': 165, 'company_id': 51, 'candidate_ids': [175, 260, 95]}, {'vacancy_id': 166, 'company_id': 4, 'candidate_ids': [339, 277, 160]}, {'vacancy_id': 167, 'company_id': 94, 'candidate_ids': [130, 255, 224]}, {'vacancy_id': 168, 'company_id': 46, 'candidate_ids': [116, 114, 89]}, {'vacancy_id': 169, 'company_id': 90, 'candidate_ids': [54, 260, 249]}, {'vacancy_id': 170, 'company_id': 86, 'candidate_ids': [26, 294, 268]}, {'vacancy_id': 171, 'company_id': 39, 'candidate_ids': [329, 63, 136]}, {'vacancy_id': 172, 'company_id': 62, 'candidate_ids': [32, 215, 233]}, {'vacancy_id': 173, 'company_id': 41, 'candidate_ids': [75, 41, 179]}, {'vacancy_id': 174, 'company_id': 54, 'candidate_ids': [313, 188, 173]}, {'vacancy_id': 175, 'company_id': 50, 'candidate_ids': [160, 97, 114]}, {'vacancy_id': 176, 'company_id': 95, 'candidate_ids': [100, 250, 70]}, {'vacancy_id': 177, 'company_id': 14, 'candidate_ids': [321, 236, 7]}, {'vacancy_id': 178, 'company_id': 56, 'candidate_ids': [339, 300, 254]}, {'vacancy_id': 179, 'company_id': 11, 'candidate_ids': [321, 63, 7]}, {'vacancy_id': 180, 'company_id': 51, 'candidate_ids': [55, 217, 243]}, {'vacancy_id': 181, 'company_id': 23, 'candidate_ids': [285, 314, 306]}, {'vacancy_id': 182, 'company_id': 54, 'candidate_ids': [173, 136, 238]}, {'vacancy_id': 183, 'company_id': 98, 'candidate_ids': [78, 319, 193]}, {'vacancy_id': 184, 'company_id': 46, 'candidate_ids': [337, 151, 97]}, {'vacancy_id': 185, 'company_id': 48, 'candidate_ids': [277, 55, 4]}, {'vacancy_id': 186, 'company_id': 106, 'candidate_ids': [97, 160, 124]}, {'vacancy_id': 187, 'company_id': 35, 'candidate_ids': [109, 300, 113]}, {'vacancy_id': 188, 'company_id': 89, 'candidate_ids': [335, 299, 314]}, {'vacancy_id': 189, 'company_id': 89, 'candidate_ids': [285, 314, 336]}, {'vacancy_id': 190, 'company_id': 27, 'candidate_ids': [256, 78, 101]}, {'vacancy_id': 191, 'company_id': 102, 'candidate_ids': [95, 157, 44]}, {'vacancy_id': 192, 'company_id': 8, 'candidate_ids': [202, 287, 166]}, {'vacancy_id': 193, 'company_id': 78, 'candidate_ids': [41, 27, 141]}, {'vacancy_id': 194, 'company_id': 7, 'candidate_ids': [198, 299, 206]}, {'vacancy_id': 195, 'company_id': 1, 'candidate_ids': [277, 60, 4]}, {'vacancy_id': 196, 'company_id': 91, 'candidate_ids': [7, 32, 240]}, {'vacancy_id': 197, 'company_id': 67, 'candidate_ids': [329, 63, 46]}, {'vacancy_id': 198, 'company_id': 26, 'candidate_ids': [63, 329, 136]}, {'vacancy_id': 199, 'company_id': 100, 'candidate_ids': [342, 255, 97]}, {'vacancy_id': 200, 'company_id': 55, 'candidate_ids': [78, 256, 101]}, {'vacancy_id': 201, 'company_id': 48, 'candidate_ids': [107, 60, 277]}, {'vacancy_id': 202, 'company_id': 62, 'candidate_ids': [32, 69, 215]}, {'vacancy_id': 203, 'company_id': 87, 'candidate_ids': [174, 64, 180]}, {'vacancy_id': 204, 'company_id': 70, 'candidate_ids': [84, 192, 275]}, {'vacancy_id': 205, 'company_id': 5, 'candidate_ids': [238, 173, 59]}, {'vacancy_id': 206, 'company_id': 113, 'candidate_ids': [152, 114, 28]}, {'vacancy_id': 207, 'company_id': 47, 'candidate_ids': [78, 256, 342]}, {'vacancy_id': 208, 'company_id': 67, 'candidate_ids': [329, 115, 63]}, {'vacancy_id': 209, 'company_id': 3, 'candidate_ids': [285, 314, 336]}, {'vacancy_id': 210, 'company_id': 58, 'candidate_ids': [21, 191, 262]}, {'vacancy_id': 211, 'company_id': 111, 'candidate_ids': [18, 95, 283]}, {'vacancy_id': 212, 'company_id': 25, 'candidate_ids': [255, 70, 100]}, {'vacancy_id': 213, 'company_id': 51, 'candidate_ids': [287, 7, 243]}, {'vacancy_id': 214, 'company_id': 24, 'candidate_ids': [277, 60, 63]}, {'vacancy_id': 215, 'company_id': 44, 'candidate_ids': [329, 46, 325]}, {'vacancy_id': 216, 'company_id': 58, 'candidate_ids': [155, 315, 287]}, {'vacancy_id': 217, 'company_id': 61, 'candidate_ids': [26, 261, 268]}, {'vacancy_id': 218, 'company_id': 112, 'candidate_ids': [296, 92, 186]}, {'vacancy_id': 219, 'company_id': 32, 'candidate_ids': [5, 133, 217]}, {'vacancy_id': 220, 'company_id': 101, 'candidate_ids': [126, 329, 63]}, {'vacancy_id': 221, 'company_id': 48, 'candidate_ids': [277, 4, 60]}, {'vacancy_id': 222, 'company_id': 23, 'candidate_ids': [314, 285, 227]}, {'vacancy_id': 223, 'company_id': 55, 'candidate_ids': [193, 78, 136]}, {'vacancy_id': 224, 'company_id': 64, 'candidate_ids': [78, 101, 256]}, {'vacancy_id': 225, 'company_id': 55, 'candidate_ids': [256, 78, 313]}, {'vacancy_id': 226, 'company_id': 3, 'candidate_ids': [285, 314, 234]}, {'vacancy_id': 227, 'company_id': 59, 'candidate_ids': [336, 285, 314]}, {'vacancy_id': 228, 'company_id': 49, 'candidate_ids': [261, 26, 315]}, {'vacancy_id': 229, 'company_id': 3, 'candidate_ids': [285, 314, 336]}, {'vacancy_id': 230, 'company_id': 77, 'candidate_ids': [313, 96, 236]}, {'vacancy_id': 231, 'company_id': 105, 'candidate_ids': [255, 63, 246]}, {'vacancy_id': 232, 'company_id': 92, 'candidate_ids': [294, 26, 315]}, {'vacancy_id': 233, 'company_id': 49, 'candidate_ids': [26, 315, 294]}, {'vacancy_id': 234, 'company_id': 40, 'candidate_ids': [105, 2, 103]}, {'vacancy_id': 235, 'company_id': 74, 'candidate_ids': [21, 116, 190]}, {'vacancy_id': 236, 'company_id': 81, 'candidate_ids': [277, 63, 97]}, {'vacancy_id': 237, 'company_id': 52, 'candidate_ids': [157, 95, 10]}, {'vacancy_id': 238, 'company_id': 34, 'candidate_ids': [103, 2, 110]}, {'vacancy_id': 239, 'company_id': 95, 'candidate_ids': [337, 255, 97]}, {'vacancy_id': 240, 'company_id': 114, 'candidate_ids': [186, 122, 224]}, {'vacancy_id': 241, 'company_id': 59, 'candidate_ids': [234, 285, 314]}, {'vacancy_id': 242, 'company_id': 95, 'candidate_ids': [70, 287, 7]}, {'vacancy_id': 243, 'company_id': 83, 'candidate_ids': [329, 342, 234]}, {'vacancy_id': 244, 'company_id': 40, 'candidate_ids': [105, 7, 2]}, {'vacancy_id': 245, 'company_id': 30, 'candidate_ids': [28, 280, 160]}, {'vacancy_id': 246, 'company_id': 22, 'candidate_ids': [103, 105, 2]}, {'vacancy_id': 247, 'company_id': 25, 'candidate_ids': [70, 257, 255]}, {'vacancy_id': 248, 'company_id': 3, 'candidate_ids': [314, 285, 336]}, {'vacancy_id': 249, 'company_id': 32, 'candidate_ids': [33, 147, 316]}, {'vacancy_id': 250, 'company_id': 7, 'candidate_ids': [133, 147, 217]}, {'vacancy_id': 251, 'company_id': 110, 'candidate_ids': [23, 146, 298]}, {'vacancy_id': 252, 'company_id': 107, 'candidate_ids': [30, 153, 225]}, {'vacancy_id': 253, 'company_id': 102, 'candidate_ids': [95, 157, 139]}, {'vacancy_id': 254, 'company_id': 112, 'candidate_ids': [296, 164, 92]}, {'vacancy_id': 255, 'company_id': 97, 'candidate_ids': [300, 109, 33]}, {'vacancy_id': 256, 'company_id': 111, 'candidate_ids': [337, 95, 157]}, {'vacancy_id': 257, 'company_id': 104, 'candidate_ids': [190, 277, 313]}, {'vacancy_id': 258, 'company_id': 42, 'candidate_ids': [118, 250, 158]}, {'vacancy_id': 259, 'company_id': 6, 'candidate_ids': [54, 7, 260]}, {'vacancy_id': 260, 'company_id': 65, 'candidate_ids': [134, 237, 276]}, {'vacancy_id': 261, 'company_id': 30, 'candidate_ids': [280, 160, 114]}, {'vacancy_id': 262, 'company_id': 41, 'candidate_ids': [75, 335, 179]}, {'vacancy_id': 263, 'company_id': 95, 'candidate_ids': [262, 305, 191]}, {'vacancy_id': 264, 'company_id': 80, 'candidate_ids': [283, 97, 242]}, {'vacancy_id': 265, 'company_id': 8, 'candidate_ids': [202, 136, 166]}, {'vacancy_id': 266, 'company_id': 102, 'candidate_ids': [299, 335, 338]}, {'vacancy_id': 267, 'company_id': 60, 'candidate_ids': [44, 210, 207]}, {'vacancy_id': 268, 'company_id': 107, 'candidate_ids': [30, 153, 225]}, {'vacancy_id': 269, 'company_id': 61, 'candidate_ids': [315, 26, 261]}, {'vacancy_id': 270, 'company_id': 73, 'candidate_ids': [63, 277, 97]}, {'vacancy_id': 271, 'company_id': 43, 'candidate_ids': [314, 336, 285]}, {'vacancy_id': 272, 'company_id': 76, 'candidate_ids': [95, 21, 157]}, {'vacancy_id': 273, 'company_id': 43, 'candidate_ids': [314, 330, 299]}, {'vacancy_id': 274, 'company_id': 88, 'candidate_ids': [26, 261, 268]}, {'vacancy_id': 275, 'company_id': 98, 'candidate_ids': [78, 193, 319]}, {'vacancy_id': 276, 'company_id': 112, 'candidate_ids': [296, 320, 186]}, {'vacancy_id': 277, 'company_id': 0, 'candidate_ids': [260, 191, 54]}, {'vacancy_id': 278, 'company_id': 33, 'candidate_ids': [33, 109, 79]}, {'vacancy_id': 279, 'company_id': 76, 'candidate_ids': [95, 146, 293]}, {'vacancy_id': 280, 'company_id': 70, 'candidate_ids': [84, 192, 278]}, {'vacancy_id': 281, 'company_id': 36, 'candidate_ids': [78, 101, 7]}, {'vacancy_id': 282, 'company_id': 26, 'candidate_ids': [329, 63, 46]}, {'vacancy_id': 283, 'company_id': 67, 'candidate_ids': [329, 63, 315]}, {'vacancy_id': 284, 'company_id': 105, 'candidate_ids': [63, 116, 246]}, {'vacancy_id': 285, 'company_id': 9, 'candidate_ids': [78, 256, 101]}, {'vacancy_id': 286, 'company_id': 35, 'candidate_ids': [300, 79, 109]}, {'vacancy_id': 287, 'company_id': 11, 'candidate_ids': [236, 97, 321]}, {'vacancy_id': 288, 'company_id': 85, 'candidate_ids': [141, 295, 27]}, {'vacancy_id': 289, 'company_id': 61, 'candidate_ids': [31, 26, 261]}, {'vacancy_id': 290, 'company_id': 94, 'candidate_ids': [255, 7, 130]}, {'vacancy_id': 291, 'company_id': 41, 'candidate_ids': [151, 75, 27]}, {'vacancy_id': 292, 'company_id': 107, 'candidate_ids': [153, 30, 225]}, {'vacancy_id': 293, 'company_id': 87, 'candidate_ids': [64, 180, 104]}, {'vacancy_id': 294, 'company_id': 60, 'candidate_ids': [44, 146, 46]}, {'vacancy_id': 295, 'company_id': 60, 'candidate_ids': [44, 313, 188]}, {'vacancy_id': 296, 'company_id': 40, 'candidate_ids': [105, 2, 103]}, {'vacancy_id': 297, 'company_id': 33, 'candidate_ids': [33, 113, 300]}, {'vacancy_id': 298, 'company_id': 50, 'candidate_ids': [160, 97, 124]}, {'vacancy_id': 299, 'company_id': 107, 'candidate_ids': [153, 30, 225]}, {'vacancy_id': 300, 'company_id': 22, 'candidate_ids': [2, 105, 103]}, {'vacancy_id': 301, 'company_id': 17, 'candidate_ids': [173, 252, 337]}, {'vacancy_id': 302, 'company_id': 0, 'candidate_ids': [136, 260, 176]}, {'vacancy_id': 303, 'company_id': 116, 'candidate_ids': [99, 109, 33]}, {'vacancy_id': 304, 'company_id': 19, 'candidate_ids': [90, 314, 285]}, {'vacancy_id': 305, 'company_id': 76, 'candidate_ids': [136, 284, 95]}, {'vacancy_id': 306, 'company_id': 81, 'candidate_ids': [277, 97, 320]}, {'vacancy_id': 307, 'company_id': 62, 'candidate_ids': [32, 215, 7]}, {'vacancy_id': 308, 'company_id': 116, 'candidate_ids': [222, 109, 33]}, {'vacancy_id': 309, 'company_id': 71, 'candidate_ids': [166, 203, 202]}, {'vacancy_id': 310, 'company_id': 4, 'candidate_ids': [277, 60, 63]}, {'vacancy_id': 311, 'company_id': 35, 'candidate_ids': [109, 33, 300]}, {'vacancy_id': 312, 'company_id': 94, 'candidate_ids': [255, 130, 337]}, {'vacancy_id': 313, 'company_id': 82, 'candidate_ids': [222, 33, 300]}, {'vacancy_id': 314, 'company_id': 35, 'candidate_ids': [325, 99, 95]}, {'vacancy_id': 315, 'company_id': 42, 'candidate_ids': [212, 199, 158]}, {'vacancy_id': 316, 'company_id': 3, 'candidate_ids': [227, 285, 314]}, {'vacancy_id': 317, 'company_id': 106, 'candidate_ids': [97, 28, 114]}, {'vacancy_id': 318, 'company_id': 61, 'candidate_ids': [26, 268, 261]}, {'vacancy_id': 319, 'company_id': 54, 'candidate_ids': [173, 95, 78]}, {'vacancy_id': 320, 'company_id': 73, 'candidate_ids': [142, 136, 63]}, {'vacancy_id': 321, 'company_id': 111, 'candidate_ids': [95, 283, 157]}, {'vacancy_id': 322, 'company_id': 16, 'candidate_ids': [202, 166, 304]}, {'vacancy_id': 323, 'company_id': 23, 'candidate_ids': [314, 285, 306]}, {'vacancy_id': 324, 'company_id': 28, 'candidate_ids': [331, 180, 64]}, {'vacancy_id': 325, 'company_id': 95, 'candidate_ids': [70, 100, 7]}, {'vacancy_id': 326, 'company_id': 76, 'candidate_ids': [95, 157, 262]}, {'vacancy_id': 327, 'company_id': 4, 'candidate_ids': [277, 60, 339]}, {'vacancy_id': 328, 'company_id': 101, 'candidate_ids': [329, 63, 136]}, {'vacancy_id': 329, 'company_id': 107, 'candidate_ids': [30, 153, 225]}, {'vacancy_id': 330, 'company_id': 56, 'candidate_ids': [136, 235, 142]}, {'vacancy_id': 331, 'company_id': 75, 'candidate_ids': [103, 105, 58]}, {'vacancy_id': 332, 'company_id': 35, 'candidate_ids': [33, 316, 300]}, {'vacancy_id': 333, 'company_id': 90, 'candidate_ids': [191, 262, 21]}, {'vacancy_id': 334, 'company_id': 43, 'candidate_ids': [314, 285, 336]}, {'vacancy_id': 335, 'company_id': 92, 'candidate_ids': [26, 294, 315]}, {'vacancy_id': 336, 'company_id': 112, 'candidate_ids': [296, 218, 92]}, {'vacancy_id': 337, 'company_id': 73, 'candidate_ids': [339, 277, 63]}, {'vacancy_id': 338, 'company_id': 96, 'candidate_ids': [33, 300, 109]}, {'vacancy_id': 339, 'company_id': 95, 'candidate_ids': [95, 70, 325]}, {'vacancy_id': 340, 'company_id': 80, 'candidate_ids': [136, 284, 127]}, {'vacancy_id': 341, 'company_id': 62, 'candidate_ids': [32, 220, 69]}, {'vacancy_id': 342, 'company_id': 75, 'candidate_ids': [2, 254, 105]}, {'vacancy_id': 343, 'company_id': 21, 'candidate_ids': [161, 144, 129]}, {'vacancy_id': 344, 'company_id': 36, 'candidate_ids': [78, 319, 101]}, {'vacancy_id': 345, 'company_id': 94, 'candidate_ids': [70, 287, 288]}, {'vacancy_id': 346, 'company_id': 63, 'candidate_ids': [97, 160, 280]}, {'vacancy_id': 347, 'company_id': 54, 'candidate_ids': [173, 7, 59]}, {'vacancy_id': 348, 'company_id': 70, 'candidate_ids': [84, 192, 275]}, {'vacancy_id': 349, 'company_id': 17, 'candidate_ids': [173, 246, 7]}, {'vacancy_id': 350, 'company_id': 10, 'candidate_ids': [68, 246, 165]}, {'vacancy_id': 351, 'company_id': 30, 'candidate_ids': [97, 160, 280]}, {'vacancy_id': 352, 'company_id': 117, 'candidate_ids': [33, 316, 140]}, {'vacancy_id': 353, 'company_id': 16, 'candidate_ids': [202, 313, 166]}, {'vacancy_id': 354, 'company_id': 67, 'candidate_ids': [307, 299, 198]}, {'vacancy_id': 355, 'company_id': 54, 'candidate_ids': [173, 238, 59]}, {'vacancy_id': 356, 'company_id': 29, 'candidate_ids': [51, 146, 65]}, {'vacancy_id': 357, 'company_id': 21, 'candidate_ids': [144, 161, 129]}, {'vacancy_id': 358, 'company_id': 74, 'candidate_ids': [190, 63, 214]}, {'vacancy_id': 359, 'company_id': 83, 'candidate_ids': [315, 230, 287]}, {'vacancy_id': 360, 'company_id': 64, 'candidate_ids': [78, 256, 101]}, {'vacancy_id': 361, 'company_id': 90, 'candidate_ids': [7, 260, 287]}, {'vacancy_id': 362, 'company_id': 49, 'candidate_ids': [315, 26, 121]}, {'vacancy_id': 363, 'company_id': 96, 'candidate_ids': [33, 109, 79]}, {'vacancy_id': 364, 'company_id': 67, 'candidate_ids': [136, 284, 63]}, {'vacancy_id': 365, 'company_id': 20, 'candidate_ids': [224, 109, 76]}, {'vacancy_id': 366, 'company_id': 92, 'candidate_ids': [26, 294, 315]}, {'vacancy_id': 367, 'company_id': 39, 'candidate_ids': [329, 342, 46]}, {'vacancy_id': 368, 'company_id': 106, 'candidate_ids': [97, 160, 299]}, {'vacancy_id': 369, 'company_id': 31, 'candidate_ids': [68, 126, 63]}, {'vacancy_id': 370, 'company_id': 74, 'candidate_ids': [316, 33, 116]}, {'vacancy_id': 371, 'company_id': 57, 'candidate_ids': [329, 63, 136]}, {'vacancy_id': 372, 'company_id': 105, 'candidate_ids': [130, 314, 255]}, {'vacancy_id': 373, 'company_id': 31, 'candidate_ids': [84, 144, 339]}, {'vacancy_id': 374, 'company_id': 64, 'candidate_ids': [78, 101, 256]}, {'vacancy_id': 375, 'company_id': 26, 'candidate_ids': [329, 63, 136]}, {'vacancy_id': 376, 'company_id': 103, 'candidate_ids': [7, 97, 160]}, {'vacancy_id': 377, 'company_id': 81, 'candidate_ids': [277, 154, 142]}, {'vacancy_id': 378, 'company_id': 40, 'candidate_ids': [105, 2, 103]}, {'vacancy_id': 379, 'company_id': 115, 'candidate_ids': [214, 342, 72]}, {'vacancy_id': 380, 'company_id': 8, 'candidate_ids': [136, 202, 142]}, {'vacancy_id': 381, 'company_id': 6, 'candidate_ids': [191, 54, 260]}, {'vacancy_id': 382, 'company_id': 40, 'candidate_ids': [105, 2, 103]}, {'vacancy_id': 383, 'company_id': 48, 'candidate_ids': [277, 252, 339]}, {'vacancy_id': 384, 'company_id': 86, 'candidate_ids': [26, 294, 268]}, {'vacancy_id': 385, 'company_id': 53, 'candidate_ids': [33, 60, 277]}, {'vacancy_id': 386, 'company_id': 111, 'candidate_ids': [95, 312, 137]}, {'vacancy_id': 387, 'company_id': 59, 'candidate_ids': [314, 234, 285]}, {'vacancy_id': 388, 'company_id': 10, 'candidate_ids': [151, 216, 146]}, {'vacancy_id': 389, 'company_id': 13, 'candidate_ids': [233, 69, 32]}, {'vacancy_id': 390, 'company_id': 41, 'candidate_ids': [27, 75, 22]}, {'vacancy_id': 391, 'company_id': 15, 'candidate_ids': [294, 26, 288]}, {'vacancy_id': 392, 'company_id': 36, 'candidate_ids': [78, 169, 101]}, {'vacancy_id': 393, 'company_id': 109, 'candidate_ids': [249, 260, 149]}, {'vacancy_id': 394, 'company_id': 90, 'candidate_ids': [249, 54, 260]}, {'vacancy_id': 395, 'company_id': 55, 'candidate_ids': [78, 256, 101]}, {'vacancy_id': 396, 'company_id': 67, 'candidate_ids': [329, 63, 115]}, {'vacancy_id': 397, 'company_id': 38, 'candidate_ids': [277, 142, 339]}, {'vacancy_id': 398, 'company_id': 62, 'candidate_ids': [32, 215, 220]}, {'vacancy_id': 399, 'company_id': 85, 'candidate_ids': [141, 75, 151]}, {'vacancy_id': 400, 'company_id': 98, 'candidate_ids': [78, 319, 193]}, {'vacancy_id': 401, 'company_id': 38, 'candidate_ids': [34, 277, 299]}, {'vacancy_id': 402, 'company_id': 80, 'candidate_ids': [21, 63, 191]}, {'vacancy_id': 403, 'company_id': 4, 'candidate_ids': [277, 339, 60]}, {'vacancy_id': 404, 'company_id': 69, 'candidate_ids': [161, 144, 325]}, {'vacancy_id': 405, 'company_id': 22, 'candidate_ids': [2, 105, 103]}, {'vacancy_id': 406, 'company_id': 26, 'candidate_ids': [329, 63, 115]}, {'vacancy_id': 407, 'company_id': 98, 'candidate_ids': [78, 126, 276]}, {'vacancy_id': 408, 'company_id': 105, 'candidate_ids': [7, 287, 121]}, {'vacancy_id': 409, 'company_id': 25, 'candidate_ids': [201, 116, 70]}, {'vacancy_id': 410, 'company_id': 104, 'candidate_ids': [277, 190, 283]}, {'vacancy_id': 411, 'company_id': 29, 'candidate_ids': [146, 51, 65]}, {'vacancy_id': 412, 'company_id': 21, 'candidate_ids': [235, 161, 271]}, {'vacancy_id': 413, 'company_id': 18, 'candidate_ids': [260, 175, 241]}, {'vacancy_id': 414, 'company_id': 29, 'candidate_ids': [146, 51, 7]}, {'vacancy_id': 415, 'company_id': 55, 'candidate_ids': [256, 276, 78]}, {'vacancy_id': 416, 'company_id': 89, 'candidate_ids': [90, 285, 314]}, {'vacancy_id': 417, 'company_id': 15, 'candidate_ids': [26, 315, 288]}, {'vacancy_id': 418, 'company_id': 1, 'candidate_ids': [277, 154, 60]}, {'vacancy_id': 419, 'company_id': 12, 'candidate_ids': [78, 112, 319]}, {'vacancy_id': 420, 'company_id': 63, 'candidate_ids': [160, 97, 28]}, {'vacancy_id': 421, 'company_id': 115, 'candidate_ids': [214, 342, 277]}, {'vacancy_id': 422, 'company_id': 116, 'candidate_ids': [222, 136, 284]}, {'vacancy_id': 423, 'company_id': 39, 'candidate_ids': [21, 191, 329]}, {'vacancy_id': 424, 'company_id': 22, 'candidate_ids': [2, 103, 105]}, {'vacancy_id': 425, 'company_id': 78, 'candidate_ids': [41, 141, 75]}, {'vacancy_id': 426, 'company_id': 25, 'candidate_ids': [70, 100, 7]}, {'vacancy_id': 427, 'company_id': 114, 'candidate_ids': [299, 198, 341]}, {'vacancy_id': 428, 'company_id': 45, 'candidate_ids': [144, 161, 325]}, {'vacancy_id': 429, 'company_id': 18, 'candidate_ids': [191, 260, 54]}, {'vacancy_id': 430, 'company_id': 6, 'candidate_ids': [283, 10, 183]}, {'vacancy_id': 431, 'company_id': 106, 'candidate_ids': [97, 160, 114]}, {'vacancy_id': 432, 'company_id': 31, 'candidate_ids': [243, 68, 173]}, {'vacancy_id': 433, 'company_id': 117, 'candidate_ids': [313, 77, 103]}, {'vacancy_id': 434, 'company_id': 57, 'candidate_ids': [329, 136, 63]}, {'vacancy_id': 435, 'company_id': 6, 'candidate_ids': [54, 260, 63]}, {'vacancy_id': 436, 'company_id': 89, 'candidate_ids': [339, 90, 160]}, {'vacancy_id': 437, 'company_id': 2, 'candidate_ids': [202, 166, 203]}, {'vacancy_id': 438, 'company_id': 70, 'candidate_ids': [84, 275, 192]}, {'vacancy_id': 439, 'company_id': 53, 'candidate_ids': [60, 277, 252]}, {'vacancy_id': 440, 'company_id': 34, 'candidate_ids': [103, 29, 2]}, {'vacancy_id': 441, 'company_id': 100, 'candidate_ids': [122, 297, 224]}, {'vacancy_id': 442, 'company_id': 58, 'candidate_ids': [33, 247, 316]}, {'vacancy_id': 443, 'company_id': 62, 'candidate_ids': [32, 215, 233]}, {'vacancy_id': 444, 'company_id': 36, 'candidate_ids': [78, 155, 121]}, {'vacancy_id': 445, 'company_id': 4, 'candidate_ids': [142, 277, 136]}, {'vacancy_id': 446, 'company_id': 61, 'candidate_ids': [26, 261, 268]}, {'vacancy_id': 447, 'company_id': 111, 'candidate_ids': [299, 338, 198]}, {'vacancy_id': 448, 'company_id': 68, 'candidate_ids': [283, 68, 97]}, {'vacancy_id': 449, 'company_id': 58, 'candidate_ids': [113, 265, 300]}, {'vacancy_id': 450, 'company_id': 38, 'candidate_ids': [277, 339, 142]}, {'vacancy_id': 451, 'company_id': 28, 'candidate_ids': [180, 64, 287]}, {'vacancy_id': 452, 'company_id': 68, 'candidate_ids': [339, 68, 144]}, {'vacancy_id': 453, 'company_id': 73, 'candidate_ids': [277, 63, 97]}, {'vacancy_id': 454, 'company_id': 64, 'candidate_ids': [101, 78, 325]}, {'vacancy_id': 455, 'company_id': 105, 'candidate_ids': [146, 260, 190]}, {'vacancy_id': 456, 'company_id': 105, 'candidate_ids': [101, 260, 325]}, {'vacancy_id': 457, 'company_id': 83, 'candidate_ids': [136, 329, 63]}, {'vacancy_id': 458, 'company_id': 85, 'candidate_ids': [75, 141, 295]}, {'vacancy_id': 459, 'company_id': 11, 'candidate_ids': [96, 241, 46]}, {'vacancy_id': 460, 'company_id': 31, 'candidate_ids': [316, 33, 140]}, {'vacancy_id': 461, 'company_id': 90, 'candidate_ids': [54, 249, 191]}, {'vacancy_id': 462, 'company_id': 18, 'candidate_ids': [260, 63, 46]}, {'vacancy_id': 463, 'company_id': 108, 'candidate_ids': [146, 166, 7]}, {'vacancy_id': 464, 'company_id': 109, 'candidate_ids': [260, 249, 149]}, {'vacancy_id': 465, 'company_id': 101, 'candidate_ids': [329, 63, 250]}, {'vacancy_id': 466, 'company_id': 73, 'candidate_ids': [63, 97, 277]}, {'vacancy_id': 467, 'company_id': 114, 'candidate_ids': [186, 320, 296]}, {'vacancy_id': 468, 'company_id': 6, 'candidate_ids': [126, 54, 276]}, {'vacancy_id': 469, 'company_id': 73, 'candidate_ids': [277, 60, 63]}, {'vacancy_id': 470, 'company_id': 2, 'candidate_ids': [166, 202, 190]}, {'vacancy_id': 471, 'company_id': 104, 'candidate_ids': [190, 277, 46]}, {'vacancy_id': 472, 'company_id': 103, 'candidate_ids': [97, 106, 114]}, {'vacancy_id': 473, 'company_id': 36, 'candidate_ids': [78, 7, 101]}, {'vacancy_id': 474, 'company_id': 103, 'candidate_ids': [97, 28, 337]}, {'vacancy_id': 475, 'company_id': 43, 'candidate_ids': [314, 285, 90]}, {'vacancy_id': 476, 'company_id': 6, 'candidate_ids': [54, 252, 191]}, {'vacancy_id': 477, 'company_id': 2, 'candidate_ids': [166, 202, 190]}, {'vacancy_id': 478, 'company_id': 110, 'candidate_ids': [146, 33, 298]}, {'vacancy_id': 479, 'company_id': 45, 'candidate_ids': [144, 161, 325]}, {'vacancy_id': 480, 'company_id': 20, 'candidate_ids': [7, 121, 155]}, {'vacancy_id': 481, 'company_id': 69, 'candidate_ids': [161, 144, 129]}, {'vacancy_id': 482, 'company_id': 81, 'candidate_ids': [277, 97, 63]}, {'vacancy_id': 483, 'company_id': 105, 'candidate_ids': [294, 146, 63]}, {'vacancy_id': 484, 'company_id': 51, 'candidate_ids': [95, 90, 330]}, {'vacancy_id': 485, 'company_id': 67, 'candidate_ids': [329, 63, 233]}, {'vacancy_id': 486, 'company_id': 54, 'candidate_ids': [173, 238, 26]}, {'vacancy_id': 487, 'company_id': 49, 'candidate_ids': [26, 294, 315]}, {'vacancy_id': 488, 'company_id': 69, 'candidate_ids': [161, 144, 129]}, {'vacancy_id': 489, 'company_id': 72, 'candidate_ids': [236, 321, 83]}, {'vacancy_id': 490, 'company_id': 14, 'candidate_ids': [321, 96, 236]}, {'vacancy_id': 491, 'company_id': 111, 'candidate_ids': [33, 316, 253]}]\n",
            "API Response: {'code': 'invalid_argument', 'message': 'decode request: Matches: invalid json parameter: ReadMapCB: expect { or n, but found [, error found in #10 byte of ...|atches\": [{\"vacancy_|..., bigger context ...|{\"matches\": [{\"vacancy_id\": 0, \"company_id\": 97, \"candidate_ids|...', 'details': None}\n"
          ]
        }
      ]
    },
    {
      "cell_type": "code",
      "source": [
        "# Display or save the top 3 matches\n",
        "print(top_3_matches)"
      ],
      "metadata": {
        "colab": {
          "base_uri": "https://localhost:8080/"
        },
        "id": "NJtl9CeI81pA",
        "outputId": "fe46fd67-d580-4976-c2ef-f566eafa957f"
      },
      "execution_count": 73,
      "outputs": [
        {
          "output_type": "stream",
          "name": "stdout",
          "text": [
            "{}\n"
          ]
        }
      ]
    },
    {
      "cell_type": "code",
      "source": [
        "# The instructions reiterate that the primary goal is to optimally match a set of job-seeking candidates to a set of companies and their vacancies. The optimal matches should meet the following constraints:\n",
        "\n",
        "# A large overlap between the personal values of the candidate and the company values of the company posting the vacancy.\n",
        "# An area of expertise that is aligned with the candidate.\n",
        "# The code have been running attempts to make these optimal matches by calculating the cosine similarity between the features (such as mission statements and job descriptions) of candidates, companies, and vacancies. It also tries to get a score for these matches from an external API.\n",
        "\n",
        "# It appears that the match calculation is working as expected, but the API response might not be providing the information you need.\n",
        "\n",
        "# Given the  instructions and the debug information i've provided, I suggest the following:\n",
        "\n",
        "# Check if the API is specifically designed to evaluate matches based on personal values and areas of expertise, as described in the instructions. If not, we might want to adjust the feature engineering steps to better align with these criteria."
      ],
      "metadata": {
        "id": "QI7tFvN7Agmz"
      },
      "execution_count": null,
      "outputs": []
    }
  ]
}