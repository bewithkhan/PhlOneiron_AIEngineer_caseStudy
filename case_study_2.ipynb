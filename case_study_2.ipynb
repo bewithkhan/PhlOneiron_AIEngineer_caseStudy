{
  "nbformat": 4,
  "nbformat_minor": 0,
  "metadata": {
    "colab": {
      "provenance": []
    },
    "kernelspec": {
      "name": "python3",
      "display_name": "Python 3"
    },
    "language_info": {
      "name": "python"
    }
  },
  "cells": [
    {
      "cell_type": "code",
      "source": [
        "# The provided Python code performs the following tasks:\n",
        "\n",
        "### 1. Import Libraries\n",
        "# The code starts by importing the necessary Python libraries:\n",
        "# - `pandas` for data manipulation\n",
        "# - `numpy` for numerical operations\n",
        "# - `TfidfVectorizer` and `cosine_similarity` from scikit-learn for text processing and similarity calculations\n",
        "\n",
        "### 2. Data Loading\n",
        "# The code includes placeholders for loading the CSV files for candidates, companies, and vacancies. You'll need to replace these placeholders with the actual code to load your CSV files in Google Colab.\n",
        "\n",
        "### 3. Text Preprocessing\n",
        "# A simplified text preprocessing function called `simple_preprocess_text` is defined. This function:\n",
        "# - Converts the text to lowercase\n",
        "# - Splits the text into tokens (words)\n",
        "# - Filters out non-alphanumeric tokens\n",
        "# The function is then applied to the mission statements and job descriptions in the data.\n",
        "\n",
        "### 4. Feature Engineering\n",
        "#The code combines the preprocessed text from all three datasets to create a single corpus. It then uses the `TfidfVectorizer` to transform this text into a set of feature vectors, creating a consistent feature space across all datasets.\n",
        "\n",
        "### 5. Cosine Similarity Calculation\n",
        "#The cosine similarity between the candidates and companies, as well as between the candidates and vacancies, is calculated using the `cosine_similarity` function. This results in two similarity matrices.\n",
        "\n",
        "### 6. Matching Algorithm\n",
        "#A function called `get_top_matches` is defined to find the top N candidates for each vacancy based on the cosine similarity scores. The function takes into account both the similarity with the vacancy description and the company's mission statement.\n",
        "\n",
        "### 7. Output\n",
        "#The top 3 matching candidates for each vacancy are calculated and stored in a dictionary called `top_3_matches`. This dictionary can then be used for further analysis or output.\n"
      ],
      "metadata": {
        "id": "BYemvvZ3yQN5"
      },
      "execution_count": null,
      "outputs": []
    },
    {
      "cell_type": "code",
      "execution_count": 1,
      "metadata": {
        "id": "Q6tGY749wzHw"
      },
      "outputs": [],
      "source": [
        "# Import necessary libraries\n",
        "import pandas as pd\n",
        "import numpy as np\n",
        "from sklearn.feature_extraction.text import TfidfVectorizer\n",
        "from sklearn.metrics.pairwise import cosine_similarity"
      ]
    },
    {
      "cell_type": "code",
      "source": [
        "from google.colab import files\n",
        "uploaded = files.upload()"
      ],
      "metadata": {
        "colab": {
          "base_uri": "https://localhost:8080/",
          "height": 151
        },
        "id": "uCOtDg73xJi7",
        "outputId": "d7679e43-0088-4139-b4c0-95e49de627e0"
      },
      "execution_count": 2,
      "outputs": [
        {
          "output_type": "display_data",
          "data": {
            "text/plain": [
              "<IPython.core.display.HTML object>"
            ],
            "text/html": [
              "\n",
              "     <input type=\"file\" id=\"files-28fdeb80-35ac-4134-a459-dc7fef31d212\" name=\"files[]\" multiple disabled\n",
              "        style=\"border:none\" />\n",
              "     <output id=\"result-28fdeb80-35ac-4134-a459-dc7fef31d212\">\n",
              "      Upload widget is only available when the cell has been executed in the\n",
              "      current browser session. Please rerun this cell to enable.\n",
              "      </output>\n",
              "      <script>// Copyright 2017 Google LLC\n",
              "//\n",
              "// Licensed under the Apache License, Version 2.0 (the \"License\");\n",
              "// you may not use this file except in compliance with the License.\n",
              "// You may obtain a copy of the License at\n",
              "//\n",
              "//      http://www.apache.org/licenses/LICENSE-2.0\n",
              "//\n",
              "// Unless required by applicable law or agreed to in writing, software\n",
              "// distributed under the License is distributed on an \"AS IS\" BASIS,\n",
              "// WITHOUT WARRANTIES OR CONDITIONS OF ANY KIND, either express or implied.\n",
              "// See the License for the specific language governing permissions and\n",
              "// limitations under the License.\n",
              "\n",
              "/**\n",
              " * @fileoverview Helpers for google.colab Python module.\n",
              " */\n",
              "(function(scope) {\n",
              "function span(text, styleAttributes = {}) {\n",
              "  const element = document.createElement('span');\n",
              "  element.textContent = text;\n",
              "  for (const key of Object.keys(styleAttributes)) {\n",
              "    element.style[key] = styleAttributes[key];\n",
              "  }\n",
              "  return element;\n",
              "}\n",
              "\n",
              "// Max number of bytes which will be uploaded at a time.\n",
              "const MAX_PAYLOAD_SIZE = 100 * 1024;\n",
              "\n",
              "function _uploadFiles(inputId, outputId) {\n",
              "  const steps = uploadFilesStep(inputId, outputId);\n",
              "  const outputElement = document.getElementById(outputId);\n",
              "  // Cache steps on the outputElement to make it available for the next call\n",
              "  // to uploadFilesContinue from Python.\n",
              "  outputElement.steps = steps;\n",
              "\n",
              "  return _uploadFilesContinue(outputId);\n",
              "}\n",
              "\n",
              "// This is roughly an async generator (not supported in the browser yet),\n",
              "// where there are multiple asynchronous steps and the Python side is going\n",
              "// to poll for completion of each step.\n",
              "// This uses a Promise to block the python side on completion of each step,\n",
              "// then passes the result of the previous step as the input to the next step.\n",
              "function _uploadFilesContinue(outputId) {\n",
              "  const outputElement = document.getElementById(outputId);\n",
              "  const steps = outputElement.steps;\n",
              "\n",
              "  const next = steps.next(outputElement.lastPromiseValue);\n",
              "  return Promise.resolve(next.value.promise).then((value) => {\n",
              "    // Cache the last promise value to make it available to the next\n",
              "    // step of the generator.\n",
              "    outputElement.lastPromiseValue = value;\n",
              "    return next.value.response;\n",
              "  });\n",
              "}\n",
              "\n",
              "/**\n",
              " * Generator function which is called between each async step of the upload\n",
              " * process.\n",
              " * @param {string} inputId Element ID of the input file picker element.\n",
              " * @param {string} outputId Element ID of the output display.\n",
              " * @return {!Iterable<!Object>} Iterable of next steps.\n",
              " */\n",
              "function* uploadFilesStep(inputId, outputId) {\n",
              "  const inputElement = document.getElementById(inputId);\n",
              "  inputElement.disabled = false;\n",
              "\n",
              "  const outputElement = document.getElementById(outputId);\n",
              "  outputElement.innerHTML = '';\n",
              "\n",
              "  const pickedPromise = new Promise((resolve) => {\n",
              "    inputElement.addEventListener('change', (e) => {\n",
              "      resolve(e.target.files);\n",
              "    });\n",
              "  });\n",
              "\n",
              "  const cancel = document.createElement('button');\n",
              "  inputElement.parentElement.appendChild(cancel);\n",
              "  cancel.textContent = 'Cancel upload';\n",
              "  const cancelPromise = new Promise((resolve) => {\n",
              "    cancel.onclick = () => {\n",
              "      resolve(null);\n",
              "    };\n",
              "  });\n",
              "\n",
              "  // Wait for the user to pick the files.\n",
              "  const files = yield {\n",
              "    promise: Promise.race([pickedPromise, cancelPromise]),\n",
              "    response: {\n",
              "      action: 'starting',\n",
              "    }\n",
              "  };\n",
              "\n",
              "  cancel.remove();\n",
              "\n",
              "  // Disable the input element since further picks are not allowed.\n",
              "  inputElement.disabled = true;\n",
              "\n",
              "  if (!files) {\n",
              "    return {\n",
              "      response: {\n",
              "        action: 'complete',\n",
              "      }\n",
              "    };\n",
              "  }\n",
              "\n",
              "  for (const file of files) {\n",
              "    const li = document.createElement('li');\n",
              "    li.append(span(file.name, {fontWeight: 'bold'}));\n",
              "    li.append(span(\n",
              "        `(${file.type || 'n/a'}) - ${file.size} bytes, ` +\n",
              "        `last modified: ${\n",
              "            file.lastModifiedDate ? file.lastModifiedDate.toLocaleDateString() :\n",
              "                                    'n/a'} - `));\n",
              "    const percent = span('0% done');\n",
              "    li.appendChild(percent);\n",
              "\n",
              "    outputElement.appendChild(li);\n",
              "\n",
              "    const fileDataPromise = new Promise((resolve) => {\n",
              "      const reader = new FileReader();\n",
              "      reader.onload = (e) => {\n",
              "        resolve(e.target.result);\n",
              "      };\n",
              "      reader.readAsArrayBuffer(file);\n",
              "    });\n",
              "    // Wait for the data to be ready.\n",
              "    let fileData = yield {\n",
              "      promise: fileDataPromise,\n",
              "      response: {\n",
              "        action: 'continue',\n",
              "      }\n",
              "    };\n",
              "\n",
              "    // Use a chunked sending to avoid message size limits. See b/62115660.\n",
              "    let position = 0;\n",
              "    do {\n",
              "      const length = Math.min(fileData.byteLength - position, MAX_PAYLOAD_SIZE);\n",
              "      const chunk = new Uint8Array(fileData, position, length);\n",
              "      position += length;\n",
              "\n",
              "      const base64 = btoa(String.fromCharCode.apply(null, chunk));\n",
              "      yield {\n",
              "        response: {\n",
              "          action: 'append',\n",
              "          file: file.name,\n",
              "          data: base64,\n",
              "        },\n",
              "      };\n",
              "\n",
              "      let percentDone = fileData.byteLength === 0 ?\n",
              "          100 :\n",
              "          Math.round((position / fileData.byteLength) * 100);\n",
              "      percent.textContent = `${percentDone}% done`;\n",
              "\n",
              "    } while (position < fileData.byteLength);\n",
              "  }\n",
              "\n",
              "  // All done.\n",
              "  yield {\n",
              "    response: {\n",
              "      action: 'complete',\n",
              "    }\n",
              "  };\n",
              "}\n",
              "\n",
              "scope.google = scope.google || {};\n",
              "scope.google.colab = scope.google.colab || {};\n",
              "scope.google.colab._files = {\n",
              "  _uploadFiles,\n",
              "  _uploadFilesContinue,\n",
              "};\n",
              "})(self);\n",
              "</script> "
            ]
          },
          "metadata": {}
        },
        {
          "output_type": "stream",
          "name": "stdout",
          "text": [
            "Saving candidates.csv to candidates.csv\n",
            "Saving companies.csv to companies.csv\n",
            "Saving vacancies.csv to vacancies.csv\n"
          ]
        }
      ]
    },
    {
      "cell_type": "code",
      "source": [
        "# Load the data (Replace these lines with actual data loading code in Google Colab)\n",
        "candidates_df = pd.read_csv(\"candidates.csv\")\n",
        "companies_df = pd.read_csv(\"companies.csv\")\n",
        "vacancies_df = pd.read_csv(\"vacancies.csv\")"
      ],
      "metadata": {
        "id": "mTmbyHhNxAjt"
      },
      "execution_count": 3,
      "outputs": []
    },
    {
      "cell_type": "code",
      "source": [
        "# Simplified text preprocessing function\n",
        "def simple_preprocess_text(text):\n",
        "    text = text.lower()\n",
        "    tokens = text.split()\n",
        "    filtered_tokens = [token for token in tokens if token.isalnum()]\n",
        "    return ' '.join(filtered_tokens)"
      ],
      "metadata": {
        "id": "vyVVUWHixXZB"
      },
      "execution_count": 4,
      "outputs": []
    },
    {
      "cell_type": "code",
      "source": [
        "# Apply simplified text preprocessing\n",
        "candidates_df['simple_processed_mission'] = candidates_df['mission_statement'].apply(simple_preprocess_text)\n",
        "companies_df['simple_processed_mission'] = companies_df['mission_statement'].apply(simple_preprocess_text)\n",
        "vacancies_df['simple_processed_description'] = vacancies_df['description'].apply(simple_preprocess_text)"
      ],
      "metadata": {
        "id": "AnErV8CcxaWt"
      },
      "execution_count": 5,
      "outputs": []
    },
    {
      "cell_type": "code",
      "source": [
        "# Create a single corpus and generate a consistent feature space using TfidfVectorizer\n",
        "combined_corpus = pd.concat([\n",
        "    candidates_df['simple_processed_mission'],\n",
        "    companies_df['simple_processed_mission'],\n",
        "    vacancies_df['simple_processed_description']\n",
        "], ignore_index=True)\n",
        "\n",
        "tfidf_vectorizer = TfidfVectorizer()\n",
        "tfidf_vectorizer.fit(combined_corpus)\n",
        "\n",
        "candidates_tfidf = tfidf_vectorizer.transform(candidates_df['simple_processed_mission'])\n",
        "companies_tfidf = tfidf_vectorizer.transform(companies_df['simple_processed_mission'])\n",
        "vacancies_tfidf = tfidf_vectorizer.transform(vacancies_df['simple_processed_description'])"
      ],
      "metadata": {
        "id": "ttgZmXHqxd7f"
      },
      "execution_count": 6,
      "outputs": []
    },
    {
      "cell_type": "code",
      "source": [
        "# Calculate cosine similarity\n",
        "candidate_company_similarity = cosine_similarity(candidates_tfidf, companies_tfidf)\n",
        "candidate_vacancy_similarity = cosine_similarity(candidates_tfidf, vacancies_tfidf)"
      ],
      "metadata": {
        "id": "1FzQALm7xgxg"
      },
      "execution_count": 7,
      "outputs": []
    },
    {
      "cell_type": "code",
      "source": [
        "# Function to get top N matches for each vacancy\n",
        "def get_top_matches(candidate_vacancy_sim, candidate_company_sim, top_n=3):\n",
        "    top_matches = {}\n",
        "    num_vacancies = candidate_vacancy_sim.shape[1]\n",
        "\n",
        "    for vacancy_id in range(num_vacancies):\n",
        "        vacancy_sim_scores = candidate_vacancy_sim[:, vacancy_id]\n",
        "        company_id = vacancies_df.loc[vacancy_id, 'company_id']\n",
        "        company_sim_scores = candidate_company_sim[:, company_id]\n",
        "        combined_sim_scores = (vacancy_sim_scores + company_sim_scores) / 2.0\n",
        "        top_candidate_indices = np.argsort(combined_sim_scores)[::-1][:top_n]\n",
        "        top_matches[vacancy_id] = top_candidate_indices.tolist()\n",
        "\n",
        "    return top_matches"
      ],
      "metadata": {
        "id": "g4nRUTzWxh9D"
      },
      "execution_count": 8,
      "outputs": []
    },
    {
      "cell_type": "code",
      "source": [
        "# Get top 3 matches for each vacancy\n",
        "top_3_matches = get_top_matches(candidate_vacancy_similarity, candidate_company_similarity, top_n=3)"
      ],
      "metadata": {
        "id": "1htb-7jLxnVS"
      },
      "execution_count": 9,
      "outputs": []
    },
    {
      "cell_type": "code",
      "source": [
        "# Display or use the top 3 matches as needed\n",
        "print(top_3_matches)"
      ],
      "metadata": {
        "colab": {
          "base_uri": "https://localhost:8080/"
        },
        "id": "lxhaeT1Mxpr6",
        "outputId": "5d92b990-a788-4d25-97d2-ea9461d3f3f8"
      },
      "execution_count": 10,
      "outputs": [
        {
          "output_type": "stream",
          "name": "stdout",
          "text": [
            "{0: [109, 33, 113], 1: [160, 124, 97], 2: [113, 53, 63], 3: [160, 114, 97], 4: [217, 68, 243], 5: [7, 90, 95], 6: [136, 329, 115], 7: [299, 338, 260], 8: [277, 4, 60], 9: [68, 97, 43], 10: [63, 97, 46], 11: [255, 100, 246], 12: [336, 285, 90], 13: [97, 28, 114], 14: [146, 51, 298], 15: [160, 97, 28], 16: [95, 186, 146], 17: [235, 144, 271], 18: [314, 285, 330], 19: [258, 321, 63], 20: [166, 202, 203], 21: [206, 335, 198], 22: [95, 157, 10], 23: [314, 285, 234], 24: [202, 166, 21], 25: [173, 238, 59], 26: [285, 314, 90], 27: [113, 300, 63], 28: [256, 78, 101], 29: [136, 329, 63], 30: [256, 78, 101], 31: [7, 173, 26], 32: [70, 325, 255], 33: [180, 287, 64], 34: [314, 285, 306], 35: [7, 315, 173], 36: [157, 95, 139], 37: [122, 60, 4], 38: [314, 285, 90], 39: [152, 28, 114], 40: [134, 237, 276], 41: [250, 337, 70], 42: [31, 26, 315], 43: [342, 70, 257], 44: [95, 253, 157], 45: [329, 63, 136], 46: [314, 338, 285], 47: [193, 78, 319], 48: [109, 33, 79], 49: [329, 63, 245], 50: [314, 285, 90], 51: [109, 33, 79], 52: [106, 97, 7], 53: [233, 7, 69], 54: [103, 2, 105], 55: [109, 201, 245], 56: [63, 329, 46], 57: [27, 75, 41], 58: [4, 60, 63], 59: [216, 255, 280], 60: [78, 256, 319], 61: [260, 283, 63], 62: [33, 316, 247], 63: [5, 147, 121], 64: [2, 270, 190], 65: [7, 68, 277], 66: [335, 75, 27], 67: [26, 294, 315], 68: [33, 195, 76], 69: [78, 21, 319], 70: [47, 55, 93], 71: [197, 191, 21], 72: [188, 77, 331], 73: [300, 33, 79], 74: [329, 136, 63], 75: [202, 166, 263], 76: [133, 13, 147], 77: [54, 149, 249], 78: [103, 2, 105], 79: [277, 60, 63], 80: [277, 63, 60], 81: [255, 257, 7], 82: [109, 33, 79], 83: [277, 339, 60], 84: [95, 78, 49], 85: [277, 55, 60], 86: [277, 4, 313], 87: [68, 63, 95], 88: [103, 2, 105], 89: [2, 105, 103], 90: [287, 315, 63], 91: [160, 28, 280], 92: [122, 267, 297], 93: [329, 63, 115], 94: [166, 202, 263], 95: [214, 342, 277], 96: [49, 109, 33], 97: [26, 261, 301], 98: [227, 314, 336], 99: [79, 33, 113], 100: [161, 144, 325], 101: [26, 261, 294], 102: [186, 7, 287], 103: [121, 133, 13], 104: [260, 249, 54], 105: [314, 285, 336], 106: [7, 97, 63], 107: [55, 217, 93], 108: [215, 32, 220], 109: [192, 84, 21], 110: [300, 109, 33], 111: [7, 33, 109], 112: [236, 63, 321], 113: [16, 144, 161], 114: [4, 60, 277], 115: [153, 30, 225], 116: [97, 160, 124], 117: [297, 26, 315], 118: [33, 316, 157], 119: [76, 224, 95], 120: [261, 26, 315], 121: [277, 339, 63], 122: [69, 32, 0], 123: [95, 157, 283], 124: [214, 342, 277], 125: [329, 63, 7], 126: [109, 300, 33], 127: [87, 160, 114], 128: [277, 63, 97], 129: [126, 252, 276], 130: [260, 54, 249], 131: [101, 256, 78], 132: [75, 141, 151], 133: [283, 63, 277], 134: [287, 7, 300], 135: [130, 255, 337], 136: [325, 7, 70], 137: [26, 315, 261], 138: [183, 133, 283], 139: [103, 188, 190], 140: [236, 321, 96], 141: [316, 33, 116], 142: [329, 63, 136], 143: [84, 33, 316], 144: [7, 287, 97], 145: [95, 146, 157], 146: [186, 315, 7], 147: [63, 190, 173], 148: [126, 276, 277], 149: [299, 198, 341], 150: [166, 202, 204], 151: [191, 260, 54], 152: [34, 307, 277], 153: [78, 101, 256], 154: [32, 220, 215], 155: [68, 7, 97], 156: [307, 299, 78], 157: [277, 60, 252], 158: [136, 329, 63], 159: [260, 241, 46], 160: [109, 33, 113], 161: [294, 288, 26], 162: [26, 315, 268], 163: [5, 183, 147], 164: [314, 90, 306], 165: [175, 260, 95], 166: [339, 277, 160], 167: [130, 255, 224], 168: [116, 114, 89], 169: [54, 260, 249], 170: [26, 294, 268], 171: [329, 63, 136], 172: [32, 215, 233], 173: [75, 41, 179], 174: [313, 188, 173], 175: [160, 97, 114], 176: [100, 250, 70], 177: [321, 236, 7], 178: [339, 300, 254], 179: [321, 63, 7], 180: [55, 217, 243], 181: [285, 314, 306], 182: [173, 136, 238], 183: [78, 319, 193], 184: [337, 151, 97], 185: [277, 55, 4], 186: [97, 160, 124], 187: [109, 300, 113], 188: [335, 299, 314], 189: [285, 314, 336], 190: [256, 78, 101], 191: [95, 157, 44], 192: [202, 287, 166], 193: [41, 27, 141], 194: [198, 299, 206], 195: [277, 60, 4], 196: [7, 32, 240], 197: [329, 63, 46], 198: [63, 329, 136], 199: [342, 255, 97], 200: [78, 256, 101], 201: [107, 60, 277], 202: [32, 69, 215], 203: [174, 64, 180], 204: [84, 192, 275], 205: [238, 173, 59], 206: [152, 114, 28], 207: [78, 256, 342], 208: [329, 115, 63], 209: [285, 314, 336], 210: [21, 191, 262], 211: [18, 95, 283], 212: [255, 70, 100], 213: [287, 7, 243], 214: [277, 60, 63], 215: [329, 46, 325], 216: [155, 315, 287], 217: [26, 261, 268], 218: [296, 92, 186], 219: [5, 133, 217], 220: [126, 329, 63], 221: [277, 4, 60], 222: [314, 285, 227], 223: [193, 78, 136], 224: [78, 101, 256], 225: [256, 78, 313], 226: [285, 314, 234], 227: [336, 285, 314], 228: [261, 26, 315], 229: [285, 314, 336], 230: [313, 96, 236], 231: [255, 63, 246], 232: [294, 26, 315], 233: [26, 315, 294], 234: [105, 2, 103], 235: [21, 116, 190], 236: [277, 63, 97], 237: [157, 95, 10], 238: [103, 2, 110], 239: [337, 255, 97], 240: [186, 122, 224], 241: [234, 285, 314], 242: [70, 287, 7], 243: [329, 342, 234], 244: [105, 7, 2], 245: [28, 280, 160], 246: [103, 105, 2], 247: [70, 257, 255], 248: [314, 285, 336], 249: [33, 147, 316], 250: [133, 147, 217], 251: [23, 146, 298], 252: [30, 153, 225], 253: [95, 157, 139], 254: [296, 164, 92], 255: [300, 109, 33], 256: [337, 95, 157], 257: [190, 277, 313], 258: [118, 250, 158], 259: [54, 7, 260], 260: [134, 237, 276], 261: [280, 160, 114], 262: [75, 335, 179], 263: [262, 305, 191], 264: [283, 97, 242], 265: [202, 136, 166], 266: [299, 335, 338], 267: [44, 210, 207], 268: [30, 153, 225], 269: [315, 26, 261], 270: [63, 277, 97], 271: [314, 336, 285], 272: [95, 21, 157], 273: [314, 330, 299], 274: [26, 261, 268], 275: [78, 193, 319], 276: [296, 320, 186], 277: [260, 191, 54], 278: [33, 109, 79], 279: [95, 146, 293], 280: [84, 192, 278], 281: [78, 101, 7], 282: [329, 63, 46], 283: [329, 63, 315], 284: [63, 116, 246], 285: [78, 256, 101], 286: [300, 79, 109], 287: [236, 97, 321], 288: [141, 295, 27], 289: [31, 26, 261], 290: [255, 7, 130], 291: [151, 75, 27], 292: [153, 30, 225], 293: [64, 180, 104], 294: [44, 146, 46], 295: [44, 313, 188], 296: [105, 2, 103], 297: [33, 113, 300], 298: [160, 97, 124], 299: [153, 30, 225], 300: [2, 105, 103], 301: [173, 252, 337], 302: [136, 260, 176], 303: [99, 109, 33], 304: [90, 314, 285], 305: [136, 284, 95], 306: [277, 97, 320], 307: [32, 215, 7], 308: [222, 109, 33], 309: [166, 203, 202], 310: [277, 60, 63], 311: [109, 33, 300], 312: [255, 130, 337], 313: [222, 33, 300], 314: [325, 99, 95], 315: [212, 199, 158], 316: [227, 285, 314], 317: [97, 28, 114], 318: [26, 268, 261], 319: [173, 95, 78], 320: [142, 136, 63], 321: [95, 283, 157], 322: [202, 166, 304], 323: [314, 285, 306], 324: [331, 180, 64], 325: [70, 100, 7], 326: [95, 157, 262], 327: [277, 60, 339], 328: [329, 63, 136], 329: [30, 153, 225], 330: [136, 235, 142], 331: [103, 105, 58], 332: [33, 316, 300], 333: [191, 262, 21], 334: [314, 285, 336], 335: [26, 294, 315], 336: [296, 218, 92], 337: [339, 277, 63], 338: [33, 300, 109], 339: [95, 70, 325], 340: [136, 284, 127], 341: [32, 220, 69], 342: [2, 254, 105], 343: [161, 144, 129], 344: [78, 319, 101], 345: [70, 287, 288], 346: [97, 160, 280], 347: [173, 7, 59], 348: [84, 192, 275], 349: [173, 246, 7], 350: [68, 246, 165], 351: [97, 160, 280], 352: [33, 316, 140], 353: [202, 313, 166], 354: [307, 299, 198], 355: [173, 238, 59], 356: [51, 146, 65], 357: [144, 161, 129], 358: [190, 63, 214], 359: [315, 230, 287], 360: [78, 256, 101], 361: [7, 260, 287], 362: [315, 26, 121], 363: [33, 109, 79], 364: [136, 284, 63], 365: [224, 109, 76], 366: [26, 294, 315], 367: [329, 342, 46], 368: [97, 160, 299], 369: [68, 126, 63], 370: [316, 33, 116], 371: [329, 63, 136], 372: [130, 314, 255], 373: [84, 144, 339], 374: [78, 101, 256], 375: [329, 63, 136], 376: [7, 97, 160], 377: [277, 154, 142], 378: [105, 2, 103], 379: [214, 342, 72], 380: [136, 202, 142], 381: [191, 54, 260], 382: [105, 2, 103], 383: [277, 252, 339], 384: [26, 294, 268], 385: [33, 60, 277], 386: [95, 312, 137], 387: [314, 234, 285], 388: [151, 216, 146], 389: [233, 69, 32], 390: [27, 75, 22], 391: [294, 26, 288], 392: [78, 169, 101], 393: [249, 260, 149], 394: [249, 54, 260], 395: [78, 256, 101], 396: [329, 63, 115], 397: [277, 142, 339], 398: [32, 215, 220], 399: [141, 75, 151], 400: [78, 319, 193], 401: [34, 277, 299], 402: [21, 63, 191], 403: [277, 339, 60], 404: [161, 144, 325], 405: [2, 105, 103], 406: [329, 63, 115], 407: [78, 126, 276], 408: [7, 287, 121], 409: [201, 116, 70], 410: [277, 190, 283], 411: [146, 51, 65], 412: [235, 161, 271], 413: [260, 175, 241], 414: [146, 51, 7], 415: [256, 276, 78], 416: [90, 285, 314], 417: [26, 315, 288], 418: [277, 154, 60], 419: [78, 112, 319], 420: [160, 97, 28], 421: [214, 342, 277], 422: [222, 136, 284], 423: [21, 191, 329], 424: [2, 103, 105], 425: [41, 141, 75], 426: [70, 100, 7], 427: [299, 198, 341], 428: [144, 161, 325], 429: [191, 260, 54], 430: [283, 10, 183], 431: [97, 160, 114], 432: [243, 68, 173], 433: [313, 77, 103], 434: [329, 136, 63], 435: [54, 260, 63], 436: [339, 90, 160], 437: [202, 166, 203], 438: [84, 275, 192], 439: [60, 277, 252], 440: [103, 29, 2], 441: [122, 297, 224], 442: [33, 247, 316], 443: [32, 215, 233], 444: [78, 155, 121], 445: [142, 277, 136], 446: [26, 261, 268], 447: [299, 338, 198], 448: [283, 68, 97], 449: [113, 265, 300], 450: [277, 339, 142], 451: [180, 64, 287], 452: [339, 68, 144], 453: [277, 63, 97], 454: [101, 78, 325], 455: [146, 260, 190], 456: [101, 260, 325], 457: [136, 329, 63], 458: [75, 141, 295], 459: [96, 241, 46], 460: [316, 33, 140], 461: [54, 249, 191], 462: [260, 63, 46], 463: [146, 166, 7], 464: [260, 249, 149], 465: [329, 63, 250], 466: [63, 97, 277], 467: [186, 320, 296], 468: [126, 54, 276], 469: [277, 60, 63], 470: [166, 202, 190], 471: [190, 277, 46], 472: [97, 106, 114], 473: [78, 7, 101], 474: [97, 28, 337], 475: [314, 285, 90], 476: [54, 252, 191], 477: [166, 202, 190], 478: [146, 33, 298], 479: [144, 161, 325], 480: [7, 121, 155], 481: [161, 144, 129], 482: [277, 97, 63], 483: [294, 146, 63], 484: [95, 90, 330], 485: [329, 63, 233], 486: [173, 238, 26], 487: [26, 294, 315], 488: [161, 144, 129], 489: [236, 321, 83], 490: [321, 96, 236], 491: [33, 316, 253]}\n"
          ]
        }
      ]
    },
    {
      "cell_type": "code",
      "source": [
        "# Function to get truncated detailed information about the top matches for a given number of vacancies\n",
        "def get_truncated_detailed_matches(top_matches, num_vacancies_to_show=5):\n",
        "    truncated_matches = {}\n",
        "\n",
        "    for vacancy_id, candidate_ids in list(top_matches.items())[:num_vacancies_to_show]:\n",
        "        # Get the company ID for the current vacancy\n",
        "        company_id = vacancies_df.loc[vacancy_id, 'company_id']\n",
        "\n",
        "        # Get the details of the company, vacancy, and candidates\n",
        "        company_name = companies_df.loc[company_id, 'name']\n",
        "        vacancy_description = vacancies_df.loc[vacancy_id, 'description'][:100] + '...'  # Truncate description\n",
        "        candidate_names = candidates_df.loc[candidate_ids, 'name'].tolist()\n",
        "\n",
        "        # Store the truncated information in the dictionary\n",
        "        truncated_matches[vacancy_id] = {\n",
        "            'Company': company_name,\n",
        "            'Vacancy Description': vacancy_description,\n",
        "            'Top Matching Candidates': candidate_names\n",
        "        }\n",
        "\n",
        "    return truncated_matches\n",
        "\n",
        "# Get truncated detailed information for the top matches of the first 5 vacancies\n",
        "truncated_top_matches = get_truncated_detailed_matches(top_3_matches, num_vacancies_to_show=5)\n",
        "\n",
        "# Displaying the truncated information for better understanding of the matches\n",
        "truncated_top_matches\n"
      ],
      "metadata": {
        "colab": {
          "base_uri": "https://localhost:8080/"
        },
        "id": "YyqwRodkx56e",
        "outputId": "84ef2eed-8084-40cf-c7a7-8edc78c0bc5a"
      },
      "execution_count": 11,
      "outputs": [
        {
          "output_type": "execute_result",
          "data": {
            "text/plain": [
              "{0: {'Company': 'Guardian Insurance Solutions',\n",
              "  'Vacancy Description': 'Job Vacancy: Operations Manager at Guardian Insurance Solutions\\n\\nWe are currently seeking a highly m...',\n",
              "  'Top Matching Candidates': ['Isabella Martin',\n",
              "   'Pavel Ivanov',\n",
              "   'Ricardo Santos']},\n",
              " 1: {'Company': 'FabStyle',\n",
              "  'Vacancy Description': 'We are excited to announce a new opportunity at FabStyle, a leading player in the Fashion and Appare...',\n",
              "  'Top Matching Candidates': ['Omar Hussein', 'Amir Hassan', 'Muhammad Ali']},\n",
              " 2: {'Company': 'InsuraCorp',\n",
              "  'Vacancy Description': 'Job Vacancy: Negotiation Specialist at InsuraCorp\\n\\nInsuraCorp, a leading insurance company, is seeki...',\n",
              "  'Top Matching Candidates': ['Ricardo Santos',\n",
              "   'Jacob Jensen',\n",
              "   'James Wilson']},\n",
              " 3: {'Company': 'FabStyle',\n",
              "  'Vacancy Description': 'FabStyle, a leading fashion and apparel company, is seeking a dynamic and creative individual to joi...',\n",
              "  'Top Matching Candidates': ['Omar Hussein', 'Sophia Lee', 'Muhammad Ali']},\n",
              " 4: {'Company': 'Consultix Consulting',\n",
              "  'Vacancy Description': 'We are currently seeking a passionate and driven individual to join our team at Consultix Consulting...',\n",
              "  'Top Matching Candidates': ['Mei Ling', 'Emma Anderson', 'Elena Johnson']}}"
            ]
          },
          "metadata": {},
          "execution_count": 11
        }
      ]
    }
  ]
}
